{
 "cells": [
  {
   "cell_type": "markdown",
   "metadata": {},
   "source": [
    "An example show 2D, and caveat with `plt.pcolor`. The catch is to transpose results from `np.histogram2d` before serving it into `plt.pcolor` to get the correct plot. Otherwise, it would be diagonally symmetric and wrong."
   ]
  },
  {
   "cell_type": "code",
   "execution_count": 2,
   "metadata": {
    "collapsed": false
   },
   "outputs": [
    {
     "name": "stdout",
     "output_type": "stream",
     "text": [
      "The autoreload extension is already loaded. To reload it, use:\n",
      "  %reload_ext autoreload\n"
     ]
    }
   ],
   "source": [
    "import numpy as np\n",
    "from scipy.stats import norm\n",
    "import matplotlib\n",
    "import matplotlib.pyplot as plt\n",
    "from mpl_toolkits.mplot3d import Axes3D\n",
    "from matplotlib import cm\n",
    "matplotlib.style.use('ggplot')\n",
    "%matplotlib inline\n",
    "matplotlib.rcParams['figure.figsize'] = (10, 6)\n",
    "\n",
    "# for auto-reloading external modules\n",
    "# see http://stackoverflow.com/questions/1907993/autoreload-of-modules-in-ipython\n",
    "%load_ext autoreload\n",
    "%autoreload 2"
   ]
  },
  {
   "cell_type": "code",
   "execution_count": 3,
   "metadata": {
    "collapsed": false
   },
   "outputs": [
    {
     "data": {
      "text/plain": [
       "(-12, 12)"
      ]
     },
     "execution_count": 3,
     "metadata": {},
     "output_type": "execute_result"
    },
    {
     "data": {
      "image/png": "[encoded data removed]",
      "text/plain": [
       "<matplotlib.figure.Figure at 0x111615390>"
      ]
     },
     "metadata": {},
     "output_type": "display_data"
    }
   ],
   "source": [
    "fig = plt.figure(figsize=(18, 5))\n",
    "ax = fig.add_subplot(131)\n",
    "ax2 = fig.add_subplot(132)\n",
    "ax3 = fig.add_subplot(133)\n",
    "\n",
    "\n",
    "bins = np.arange(-12, 12.1, 1)\n",
    "\n",
    "\n",
    "num = 1000\n",
    "xs = np.random.standard_normal(num)\n",
    "ys = 2.0 + 5.0 * xs + 4.0 * np.random.standard_normal(num)\n",
    "_ = ax.hist2d(xs, ys, bins=bins, cmap=plt.cm.Blues)\n",
    "ax.set_title('matplotlib hist2d')\n",
    "\n",
    "\n",
    "H, xedges, yedges = np.histogram2d(xs, ys, bins=bins, normed=True)\n",
    "# This is a key transpose for whatever reason!!!\n",
    "# Otherwise, the results is diagnoally symetric to ax.hist2d\n",
    "# https://docs.scipy.org/doc/numpy/reference/generated/numpy.histogram2d.html\n",
    "xcenters = (xedges[:-1] + xedges[1:]) / 2\n",
    "ycenters = (yedges[:-1] + yedges[1:]) / 2\n",
    "ax2.pcolor(xcenters, ycenters, H, cmap=plt.cm.Blues)\n",
    "ax2.set_title('np.histogram2d')\n",
    "ax2.set_xlim(-12, 12)\n",
    "ax2.set_ylim(-12, 12)\n",
    "\n",
    "\n",
    "ax3.pcolor(xcenters, ycenters, H.T, cmap=plt.cm.Blues)\n",
    "ax2.set_title('np.histogram2d transposed')\n",
    "ax3.set_xlim(-12, 12)\n",
    "ax3.set_ylim(-12, 12)"
   ]
  }
 ],
 "metadata": {
  "kernelspec": {
   "display_name": "Python 3",
   "language": "python",
   "name": "python3"
  },
  "language_info": {
   "codemirror_mode": {
    "name": "ipython",
    "version": 3
   },
   "file_extension": ".py",
   "mimetype": "text/x-python",
   "name": "python",
   "nbconvert_exporter": "python",
   "pygments_lexer": "ipython3",
   "version": "3.5.1"
  }
 },
 "nbformat": 4,
 "nbformat_minor": 0
}
