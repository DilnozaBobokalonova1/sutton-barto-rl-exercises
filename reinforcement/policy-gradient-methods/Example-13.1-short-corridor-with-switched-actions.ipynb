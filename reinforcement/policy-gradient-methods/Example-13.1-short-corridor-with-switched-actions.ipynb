{
 "cells": [
  {
   "cell_type": "markdown",
   "metadata": {},
   "source": [
    "Problem description: http://incompleteideas.net/sutton/book/bookdraft2017june19.pdf"
   ]
  },
  {
   "cell_type": "code",
   "execution_count": 1,
   "metadata": {
    "collapsed": false
   },
   "outputs": [],
   "source": [
    "import numpy as np\n",
    "from scipy.stats import norm\n",
    "import matplotlib\n",
    "import matplotlib.pyplot as plt\n",
    "from matplotlib import cm\n",
    "matplotlib.style.use('seaborn')\n",
    "%matplotlib inline\n",
    "matplotlib.rcParams['figure.figsize'] = (8, 5)\n",
    "\n",
    "from IPython.display import display, Image\n",
    "# for auto-reloading external modules\n",
    "# see http://stackoverflow.com/questions/1907993/autoreload-of-modules-in-ipython\n",
    "%load_ext autoreload\n",
    "%autoreload 2"
   ]
  },
  {
   "cell_type": "code",
   "execution_count": 2,
   "metadata": {
    "collapsed": false
   },
   "outputs": [
    {
     "data": {
      "image/png": "[encoded data removed]",
      "text/plain": [
       "<IPython.core.display.Image object>"
      ]
     },
     "execution_count": 2,
     "metadata": {},
     "output_type": "execute_result"
    }
   ],
   "source": [
    "Image('./short-corridor-with-switched-actions.png')"
   ]
  },
  {
   "cell_type": "code",
   "execution_count": 3,
   "metadata": {
    "collapsed": true
   },
   "outputs": [],
   "source": [
    "INIT_STATE = 0\n",
    "TERMINAL_STATE = 3\n",
    "# state that reverse the result of the action\n",
    "REVERSE_STATE = 1\n",
    "LEFT = -1\n",
    "RIGHT = 1\n",
    "ACTIONS = [LEFT, RIGHT]\n",
    "\n",
    "def generate_an_episode(starting_state, greedy_action, prob_right):\n",
    "    state = starting_state\n",
    "    reward = 0\n",
    "    while state != TERMINAL_STATE:\n",
    "        if np.random.random() <= prob_right:\n",
    "            act = RIGHT\n",
    "        else:\n",
    "            act = LEFT\n",
    "\n",
    "        if state == REVERSE_STATE:\n",
    "            state -= act\n",
    "        else:\n",
    "            state += act\n",
    "        reward -= 1\n",
    "        state = max(state, 0)\n",
    "    return reward"
   ]
  },
  {
   "cell_type": "code",
   "execution_count": 4,
   "metadata": {
    "collapsed": false
   },
   "outputs": [],
   "source": [
    "epsilon = 0.1\n",
    "# epsilon-greedy left\n",
    "prob_right = epsilon / 2\n",
    "\n",
    "rewards = []\n",
    "for i in range(2000):\n",
    "    rewards.append(generate_an_episode(INIT_STATE, RIGHT, prob_right))"
   ]
  },
  {
   "cell_type": "code",
   "execution_count": 5,
   "metadata": {
    "collapsed": false
   },
   "outputs": [
    {
     "data": {
      "text/plain": [
       "-82.953500000000005"
      ]
     },
     "execution_count": 5,
     "metadata": {},
     "output_type": "execute_result"
    }
   ],
   "source": [
    "np.mean(rewards)"
   ]
  },
  {
   "cell_type": "code",
   "execution_count": 6,
   "metadata": {
    "collapsed": false
   },
   "outputs": [],
   "source": [
    "epsilon = 0.1\n",
    "# epsilon-greedy right\n",
    "prob_right = (1 - epsilon) + epsilon / 2\n",
    "\n",
    "rewards = []\n",
    "for i in range(2000):\n",
    "    rewards.append(generate_an_episode(INIT_STATE, RIGHT, prob_right))"
   ]
  },
  {
   "cell_type": "code",
   "execution_count": 7,
   "metadata": {
    "collapsed": false
   },
   "outputs": [
    {
     "data": {
      "text/plain": [
       "-45.130000000000003"
      ]
     },
     "execution_count": 7,
     "metadata": {},
     "output_type": "execute_result"
    }
   ],
   "source": [
    "np.mean(rewards)"
   ]
  },
  {
   "cell_type": "markdown",
   "metadata": {},
   "source": [
    "Maximize\n",
    "\n",
    "$$f(p) = p(1-p)p = p^2 - p^3$$\n",
    "\n",
    "to obtain the best policy. Then $p = \\frac{2}{3}$ (differentiate $f$ and set derivative to zero), to calculate the corresponding $\\epsilon$, set\n",
    "\n",
    "$$\\frac{\\epsilon}{2} + (1 - \\epsilon) = \\frac{2}{3}$$\n",
    "\n",
    "It turns out $\\epsilon = \\frac{2}{3}$, too.\n",
    "\n",
    "Calculate the opitmal value of the initial state may be more involved, so just simulate."
   ]
  },
  {
   "cell_type": "code",
   "execution_count": 8,
   "metadata": {
    "collapsed": false
   },
   "outputs": [
    {
     "name": "stdout",
     "output_type": "stream",
     "text": [
      "0,1,2,3,4,5,6,7,8,9,10,11,12,13,14,15,16,17,18,19,20,21,22,23,24,25,26,27,28,29,30,31,32,33,34,35,36,37,38,39,40,41,42,43,44,45,46,47,48,49,"
     ]
    }
   ],
   "source": [
    "# probabilities of going right\n",
    "probs = np.sort(np.arange(0.02, 1, 0.02).tolist() + [2/3])\n",
    "\n",
    "avg_rewards = []\n",
    "std_rewards = []\n",
    "for k, p in enumerate(probs):\n",
    "    print(k, end=',')\n",
    "    rewards = []\n",
    "    for i in range(2000):\n",
    "        rewards.append(generate_an_episode(INIT_STATE, RIGHT, p))\n",
    "    avg_rewards.append(np.mean(rewards))\n",
    "    std_rewards.append(np.std(rewards))"
   ]
  },
  {
   "cell_type": "code",
   "execution_count": 9,
   "metadata": {
    "collapsed": false,
    "scrolled": true
   },
   "outputs": [
    {
     "data": {
      "text/plain": [
       "<matplotlib.text.Text at 0x112003f28>"
      ]
     },
     "execution_count": 9,
     "metadata": {},
     "output_type": "execute_result"
    },
    {
     "data": {
      "image/png": "[encoded data removed]",
      "text/plain": [
       "<matplotlib.figure.Figure at 0x111fe6710>"
      ]
     },
     "metadata": {},
     "output_type": "display_data"
    }
   ],
   "source": [
    "plt.errorbar(probs, avg_rewards, yerr=std_rewards)\n",
    "idx = np.where(probs == 2/3)[0][0]\n",
    "plt.scatter([probs[idx]], avg_rewards[idx], label='optimal probability')\n",
    "plt.legend(loc='lower right')\n",
    "plt.xlabel('Probability of moving right')\n",
    "plt.ylabel('Value of state S')"
   ]
  },
  {
   "cell_type": "code",
   "execution_count": 10,
   "metadata": {
    "collapsed": false
   },
   "outputs": [
    {
     "data": {
      "text/plain": [
       "33"
      ]
     },
     "execution_count": 10,
     "metadata": {},
     "output_type": "execute_result"
    }
   ],
   "source": [
    "idx"
   ]
  },
  {
   "cell_type": "code",
   "execution_count": 11,
   "metadata": {
    "collapsed": false
   },
   "outputs": [
    {
     "data": {
      "text/plain": [
       "24"
      ]
     },
     "execution_count": 11,
     "metadata": {},
     "output_type": "execute_result"
    }
   ],
   "source": [
    "np.argmax(avg_rewards)"
   ]
  },
  {
   "cell_type": "markdown",
   "metadata": {},
   "source": [
    "The best reward is around 2/3 because the region around it is very flat."
   ]
  },
  {
   "cell_type": "code",
   "execution_count": null,
   "metadata": {
    "collapsed": true
   },
   "outputs": [],
   "source": []
  }
 ],
 "metadata": {
  "kernelspec": {
   "display_name": "Python 3",
   "language": "python",
   "name": "python3"
  },
  "language_info": {
   "codemirror_mode": {
    "name": "ipython",
    "version": 3
   },
   "file_extension": ".py",
   "mimetype": "text/x-python",
   "name": "python",
   "nbconvert_exporter": "python",
   "pygments_lexer": "ipython3",
   "version": "3.5.1"
  }
 },
 "nbformat": 4,
 "nbformat_minor": 0
}
