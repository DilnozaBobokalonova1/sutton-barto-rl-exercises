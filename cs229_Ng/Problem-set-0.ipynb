{
 "cells": [
  {
   "cell_type": "markdown",
   "metadata": {},
   "source": [
    "Suppose all vectors are column vectors"
   ]
  },
  {
   "cell_type": "markdown",
   "metadata": {},
   "source": [
    "# 1"
   ]
  },
  {
   "cell_type": "markdown",
   "metadata": {},
   "source": [
    "### 1(a)"
   ]
  },
  {
   "cell_type": "markdown",
   "metadata": {},
   "source": [
    "$$\\nabla_x (b^Tx) = b$$"
   ]
  },
  {
   "cell_type": "markdown",
   "metadata": {},
   "source": [
    "Calculating $\\nabla_x (x^TAx)$, the hard way"
   ]
  },
  {
   "cell_type": "markdown",
   "metadata": {},
   "source": [
    "First, let's look at $x^TAx$ by expanding it."
   ]
  },
  {
   "cell_type": "markdown",
   "metadata": {},
   "source": [
    "\\begin{align*}\n",
    "x^TAx &= x^T(Ax) \\\\\n",
    "&= x^T\n",
    "\\begin{bmatrix}\n",
    " R_1 x \\\\ \n",
    " R_2 x \\\\\n",
    " \\cdots \\\\\n",
    " R_n x\n",
    "\\end{bmatrix} \\\\\n",
    "&= x^T\n",
    "\\begin{bmatrix}\n",
    " \\sum_{j=1}^{n} A_{1j} x_j \\\\ \n",
    " \\sum_{j=1}^{n} A_{2j} x_j \\\\\n",
    " \\cdots \\\\\n",
    " \\sum_{j=1}^{n} A_{nj} x_j\n",
    "\\end{bmatrix} \\\\\n",
    "&= x_1\\sum_{j=1}^{n} A_{1j} x_j + x_2\\sum_{j=1}^{n} A_{2j} x_j + \\cdots + x_n \\sum_{j=1}^{n} A_{nj} x_j \\\\\n",
    "&= \\sum_{i=1}^n \\sum_{j=1}^{n} x_i A_{ij} x_j \\\\\n",
    "&= \\sum_{i=1}^n \\sum_{j=1}^{n} A_{ij} x_i x_j\n",
    "\\end{align*}"
   ]
  },
  {
   "cell_type": "markdown",
   "metadata": {},
   "source": [
    "Here, I used $R_k$ to mean a particular row of matrix $A$, equivalent to $a_k^T$ used in the lecture note."
   ]
  },
  {
   "cell_type": "markdown",
   "metadata": {},
   "source": [
    "Now it comes $\\nabla_x (\\sum_{i=1}^n \\sum_{j=1}^{n} A_{ij} x_i x_j)$, let's look at one $x$ value at a time"
   ]
  },
  {
   "cell_type": "markdown",
   "metadata": {},
   "source": [
    "\\begin{align*}\n",
    "\\frac{\\partial \\sum_{i=1}^n \\sum_{j=1}^{n} A_{ij} x_i x_j}{\\partial x_k} &= \\sum_{j \\neq k}^{n} A_{kj} x_j + \\sum_{i \\neq k}^{n} A_{ik} x_{i} + 2 A_{kk} x_k \\\\\n",
    "&= \\sum_{j \\neq k}^{n} A_{kj} x_j + \\sum_{j \\neq k}^{n} A_{jk} x_{j} + 2 A_{kk} x_k \\\\\n",
    "&= 2 A_{kk} x_k + 2 \\sum_{j \\neq k}^{n} A_{kj} x_j \\\\\n",
    "&= 2 \\sum_{j = 1}^{n} A_{kj} x_j \\\\\n",
    "&= 2 R_k x \\\\\n",
    "\\end{align*}\n",
    "\n",
    "1. All other components independent of $x_k$ are gone, ending up with three parts. The first part is obtained when $x_i$ is fixed to be $x_k$, and the second part is obtained when $x_j$ is fixed to be $x_k$. When both $x_i$ and $x_j$ are $x_k$, we get the third part.\n",
    "\n",
    "2. Then, the equation is rewritten,\n",
    "3. and merged, given that A is symmetic, i.e. $A_kj$ = $A_jk$.\n",
    "4. Finally, it's written in matrix form"
   ]
  },
  {
   "cell_type": "markdown",
   "metadata": {},
   "source": [
    "Now considering all values in $x$, by stacking $2R_k x$ for all $n$ $k$ values\n",
    "\n",
    "\\begin{align*}\n",
    "\\nabla_x (x^T(Ax)) = \\nabla_x \\sum_{i=1}^n \\sum_{j=1}^{n} A_{ij} x_i x_j = 2 \\begin{bmatrix}\n",
    " R_1 x \\\\ \n",
    " R_2 x \\\\\n",
    " \\cdots \\\\\n",
    " R_k x \\\\\n",
    " \\cdots \\\\\n",
    " R_n x\n",
    "\\end{bmatrix} = 2Ax\n",
    "\\end{align*}"
   ]
  },
  {
   "cell_type": "markdown",
   "metadata": {},
   "source": [
    "To answer the question in the problem set (with a $\\frac{1}{2}$ in front):\n",
    "\n",
    "$$\\nabla f(x) = \\nabla_x (\\frac{1}{2} x^T A x + b^T x) = Ax + b$$,\n",
    "\n",
    "which is very analogous to the univariate case: \n",
    "$$\\frac{d(\\frac{1}{2}ax^2 + bx)}{dx} = ax + b$$."
   ]
  },
  {
   "cell_type": "markdown",
   "metadata": {},
   "source": [
    "### 1(b)"
   ]
  },
  {
   "cell_type": "markdown",
   "metadata": {},
   "source": [
    "\\begin{align*}\n",
    "\\nabla_x f(x) = \\nabla_x g(h(x)) = \\begin{bmatrix}\n",
    " \\frac{d}{d h} g(h) \\frac{\\partial}{\\partial x_1} h(x) \\\\ \n",
    " \\cdots \\\\\n",
    " \\frac{d}{d h} g(h) \\frac{\\partial}{\\partial x_n} h(x) \\\\ \n",
    "\\end{bmatrix}\n",
    "\\end{align*}"
   ]
  },
  {
   "cell_type": "markdown",
   "metadata": {},
   "source": [
    "### 1(c)"
   ]
  },
  {
   "cell_type": "markdown",
   "metadata": {},
   "source": [
    "Continued from **1(a)**,\n",
    "\n",
    "$$\n",
    "\\frac{\\partial \\sum_{i=1}^n \\sum_{j=1}^{n} A_{ij} x_i x_j}{\\partial x_k \\partial x_l} = \n",
    "\\frac{\\partial 2R_k x}{\\partial x_l} = 2 \\frac{\\partial \\sum_{j = 1}^{n} A_{kj} x_j}{\\partial x_l} = 2 A_{kl}\n",
    "$$\n",
    "\n",
    "so (again, with $\\frac{1}{2}$ in front and canceled)\n",
    "\n",
    "$$\n",
    "\\nabla^2 f(x) = \\nabla^2 (\\frac{1}{2}x^T A x + b^Tx) = \n",
    "\\begin{bmatrix}\n",
    " A_{11} & A_{12} & \\cdots & A_{1n} \\\\ \n",
    " A_{21} & A_{22} & \\cdots & A_{2n} \\\\\n",
    " \\cdots & \\cdots & \\ddots & \\cdots \\\\\n",
    " A_{n1} & A_{n2} & \\cdots & A_{nn}\n",
    "\\end{bmatrix}  = A\n",
    "$$\n",
    ", which is also analogous to \n",
    "$$\\frac{d^2(\\frac{1}{2}ax^2 + bx)}{dx^2} = a$$."
   ]
  },
  {
   "cell_type": "markdown",
   "metadata": {},
   "source": [
    "### 1(d)"
   ]
  },
  {
   "cell_type": "markdown",
   "metadata": {},
   "source": [
    "To do "
   ]
  },
  {
   "cell_type": "code",
   "execution_count": null,
   "metadata": {
    "collapsed": true
   },
   "outputs": [],
   "source": []
  }
 ],
 "metadata": {
  "anaconda-cloud": {},
  "kernelspec": {
   "display_name": "Python [default]",
   "language": "python",
   "name": "python3"
  },
  "language_info": {
   "codemirror_mode": {
    "name": "ipython",
    "version": 3
   },
   "file_extension": ".py",
   "mimetype": "text/x-python",
   "name": "python",
   "nbconvert_exporter": "python",
   "pygments_lexer": "ipython3",
   "version": "3.5.3"
  }
 },
 "nbformat": 4,
 "nbformat_minor": 2
}
