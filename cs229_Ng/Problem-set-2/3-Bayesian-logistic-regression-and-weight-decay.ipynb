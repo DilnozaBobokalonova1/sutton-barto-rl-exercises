{
 "cells": [
  {
   "cell_type": "markdown",
   "metadata": {},
   "source": [
    "Given \n",
    "\n",
    "$$ \\theta_{ML} = \\mathrm{arg} \\max_{\\theta} \\prod_{i=1}^{m} p(y^{(i)} | x^{(i)}; \\theta) $$\n",
    "\n",
    "$$ \\theta_{MAP} = \\mathrm{arg} \\max_{\\theta} p(\\theta) \\prod_{i=1}^{m} p(y^{(i)} | x^{(i)}; \\theta)$$\n",
    "\n",
    "and \n",
    "\n",
    "$$\n",
    "\\theta N \\sim \\mathcal{N}(0, \\tau^{2}I)\n",
    "$$\n",
    "\n",
    "Prove that $$\\left|\\left|\\theta_{MAP}\\right|\\right|_2 \\le \\left|\\left|\\theta_{ML}\\right|\\right|_2$$"
   ]
  },
  {
   "cell_type": "markdown",
   "metadata": {},
   "source": [
    "By contradiction:\n",
    "\n",
    "If $$\\left|\\left|\\theta_{MAP}\\right|\\right|_2 \\gt \\left|\\left|\\theta_{ML}\\right|\\right|_2$$"
   ]
  },
  {
   "cell_type": "markdown",
   "metadata": {},
   "source": [
    "Then,\n",
    "\n",
    "\\begin{align*}\n",
    "p(\\theta_{MAP}) \\lt p(\\theta_{ML})\n",
    "\\end{align*}"
   ]
  },
  {
   "cell_type": "markdown",
   "metadata": {},
   "source": [
    "Then, \n",
    "\n",
    "\\begin{align*}\n",
    "p(\\theta_{MAP}) \\prod_{i=1}^{m}  p(y^{(i)} | x^{(i)}; \\theta_{MAP}) &<  p(\\theta_{ML}) \\prod_{i=1}^{m}  p(y^{(i)} | x^{(i)}; \\theta_{MAP}) \\\\\n",
    "&< p(\\theta_{ML}) \\prod_{i=1}^{m}  p(y^{(i)} | x^{(i)}; \\theta_{ML}) \\\\\n",
    "\\end{align*}\n",
    "\n",
    "The second inequality is due to that $\\theta_{ML}$ maximizes $\\prod_{i=1}^{m} p(y^{(i)} | x^{(i)}; \\theta)$."
   ]
  },
  {
   "cell_type": "markdown",
   "metadata": {},
   "source": [
    "Thus, it contradicts with that $\\theta_{MAP}$ maximizes $\\prod_{i=1}^{m} p(y^{(i)} | x^{(i)}; \\theta)$. Hence, it has to be \n",
    "\n",
    "$$\n",
    "\\left|\\left|\\theta_{MAP}\\right|\\right|_2 \\le \\left|\\left|\\theta_{ML}\\right|\\right|_2\n",
    "$$"
   ]
  },
  {
   "cell_type": "code",
   "execution_count": null,
   "metadata": {
    "collapsed": true
   },
   "outputs": [],
   "source": []
  }
 ],
 "metadata": {
  "kernelspec": {
   "display_name": "Python 3",
   "language": "python",
   "name": "python3"
  },
  "language_info": {
   "codemirror_mode": {
    "name": "ipython",
    "version": 3
   },
   "file_extension": ".py",
   "mimetype": "text/x-python",
   "name": "python",
   "nbconvert_exporter": "python",
   "pygments_lexer": "ipython3",
   "version": "3.5.1"
  }
 },
 "nbformat": 4,
 "nbformat_minor": 0
}
