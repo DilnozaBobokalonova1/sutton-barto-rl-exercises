{
 "cells": [
  {
   "cell_type": "code",
   "execution_count": 1,
   "metadata": {},
   "outputs": [],
   "source": [
    "import numpy as np\n",
    "np.random.seed(0)\n",
    "\n",
    "import matplotlib.pyplot as plt\n",
    "%matplotlib inline\n",
    "\n",
    "# import matplotlib as mlp\n",
    "# mlp.style.use('classic')"
   ]
  },
  {
   "cell_type": "code",
   "execution_count": 2,
   "metadata": {},
   "outputs": [],
   "source": [
    "import tensorflow as tf"
   ]
  },
  {
   "cell_type": "markdown",
   "metadata": {},
   "source": [
    "Try to get an intuition by optimizing simple function with different gradient descent optimization algorithms.\n",
    "\n",
    "$$f(x) = (x - \\theta)^2$$"
   ]
  },
  {
   "cell_type": "code",
   "execution_count": 3,
   "metadata": {},
   "outputs": [],
   "source": [
    "x = tf.placeholder(dtype=tf.float32, shape=None, name='x')\n",
    "y = tf.placeholder(dtype=tf.float32, shape=None, name='y')"
   ]
  },
  {
   "cell_type": "code",
   "execution_count": 4,
   "metadata": {},
   "outputs": [],
   "source": [
    "OPTIMIZERS = [\n",
    "    'GradientDescentOptimizer',\n",
    "    \n",
    "    'AdamOptimizer',\n",
    "    'FtrlOptimizer',\n",
    "    'ProximalGradientDescentOptimizer',\n",
    "    'ProximalAdagradOptimizer',\n",
    "    'RMSPropOptimizer',\n",
    "    'AdadeltaOptimizer',\n",
    "    'AdagradOptimizer',\n",
    "    \n",
    "    # need more than a learning_rate parameter\n",
    "#     'AdagradDAOptimizer',\n",
    "#     'MomentumOptimizer',\n",
    "\n",
    "]"
   ]
  },
  {
   "cell_type": "code",
   "execution_count": 5,
   "metadata": {},
   "outputs": [],
   "source": [
    "theta_vars = []\n",
    "optimizers = []\n",
    "lr = 0.001\n",
    "\n",
    "for optimizer_str in OPTIMIZERS:\n",
    "    the_optimizer = eval('tf.train.' + optimizer_str)\n",
    "    theta_name = 'theta' + '-' + optimizer_str\n",
    "    \n",
    "    with tf.variable_scope(theta_name):\n",
    "        theta = tf.get_variable(theta_name, shape=[1], initializer=tf.constant_initializer(value=10))\n",
    "    \n",
    "    with tf.name_scope('loss'):\n",
    "        loss = tf.losses.mean_squared_error(y, tf.square(x - theta))\n",
    "    theta_vars.append(theta)\n",
    "    \n",
    "    with tf.name_scope(optimizer_str):\n",
    "        optimizer = the_optimizer(learning_rate=lr).minimize(loss)\n",
    "    optimizers.append(optimizer)"
   ]
  },
  {
   "cell_type": "code",
   "execution_count": 6,
   "metadata": {},
   "outputs": [],
   "source": [
    "writer = tf.summary.FileWriter('./graphs', tf.get_default_graph())\n",
    "writer.close()"
   ]
  },
  {
   "cell_type": "markdown",
   "metadata": {},
   "source": [
    "The graph looks like such"
   ]
  },
  {
   "cell_type": "markdown",
   "metadata": {},
   "source": [
    "![graph](./gradient-descent-optimization-algos-tf-graph.png)"
   ]
  },
  {
   "cell_type": "code",
   "execution_count": 11,
   "metadata": {},
   "outputs": [],
   "source": [
    "coeffs = [4, -4, 1]"
   ]
  },
  {
   "cell_type": "markdown",
   "metadata": {},
   "source": [
    "The coeffs correspond to the following function:\n",
    "\n",
    "$$f(x) = (x - 2)^2 = 4 - 4x + x^2 $$"
   ]
  },
  {
   "cell_type": "code",
   "execution_count": 7,
   "metadata": {},
   "outputs": [],
   "source": [
    "def poly_generator(coeffs, batch_size=320):\n",
    "    while True:\n",
    "        x = np.random.uniform(-10.0, 10.0, batch_size)\n",
    "        y = np.polynomial.polynomial.polyval(x, coeffs)\n",
    "        yield x, y"
   ]
  },
  {
   "cell_type": "code",
   "execution_count": 8,
   "metadata": {},
   "outputs": [],
   "source": [
    "the_batch_size = 16\n",
    "num_steps = 1000000"
   ]
  },
  {
   "cell_type": "code",
   "execution_count": 9,
   "metadata": {},
   "outputs": [],
   "source": [
    "with tf.Session() as sess:\n",
    "    sess.run(tf.global_variables_initializer())\n",
    "    theta_hist = []\n",
    "    for k, (in_x, in_y) in enumerate(poly_generator(coeffs, the_batch_size)):\n",
    "        fd = feed_dict={\n",
    "            x: in_x,\n",
    "            y: in_y\n",
    "        }\n",
    "\n",
    "#         optimizer.run(feed_dict=fd)\n",
    "        sess.run([optimizers], feed_dict=fd)\n",
    "        theta_hist.append(sess.run(theta_vars))\n",
    "        if (k + 1) == num_steps:\n",
    "            break\n",
    "\n",
    "theta_hist_arr = np.array(theta_hist)\n",
    "theta_hist_arr = theta_hist_arr[:, :, 0].T"
   ]
  },
  {
   "cell_type": "code",
   "execution_count": 10,
   "metadata": {},
   "outputs": [
    {
     "data": {
      "image/png": "[encoded data removed]",
      "text/plain": [
       "<Figure size 1008x360 with 8 Axes>"
      ]
     },
     "metadata": {},
     "output_type": "display_data"
    }
   ],
   "source": [
    "fig, axes = plt.subplots(2, 4, figsize=(14, 5), sharex=True, sharey=True)\n",
    "axes = axes.ravel()\n",
    "\n",
    "for k, (the, optim) in enumerate(zip(theta_hist_arr, OPTIMIZERS)):\n",
    "    ax = axes[k]\n",
    "    ax.plot(the, label=optim)\n",
    "    ax.set_title(optim)\n",
    "plt.tight_layout()\n"
   ]
  },
  {
   "cell_type": "markdown",
   "metadata": {},
   "source": [
    "For some reason, some of the optimizers don't converge quickly, could be due to their arguments. Currently, I just specified learning rate and it's the same for all optimizers."
   ]
  }
 ],
 "metadata": {
  "kernelspec": {
   "display_name": "Python 2",
   "language": "python",
   "name": "python2"
  },
  "language_info": {
   "codemirror_mode": {
    "name": "ipython",
    "version": 2
   },
   "file_extension": ".py",
   "mimetype": "text/x-python",
   "name": "python",
   "nbconvert_exporter": "python",
   "pygments_lexer": "ipython2",
   "version": "2.7.14"
  }
 },
 "nbformat": 4,
 "nbformat_minor": 2
}
