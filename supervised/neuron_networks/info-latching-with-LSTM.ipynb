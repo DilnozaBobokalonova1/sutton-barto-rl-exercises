{
 "cells": [
  {
   "cell_type": "markdown",
   "metadata": {
    "nbpresent": {
     "id": "a75eb6bf-344e-432c-b9bd-2fbc397bc527"
    }
   },
   "source": [
    "Repeat of the experiment done in \n",
    "\n",
    "**Learning long-term dependencies with gradient descent is difficult**\n",
    "\n",
    "https://dl.acm.org/citation.cfm?id=2328340"
   ]
  },
  {
   "cell_type": "code",
   "execution_count": 1,
   "metadata": {
    "nbpresent": {
     "id": "1be13854-f9bd-4bab-843b-dc531f20e885"
    }
   },
   "outputs": [
    {
     "name": "stderr",
     "output_type": "stream",
     "text": [
      "Using TensorFlow backend.\n"
     ]
    }
   ],
   "source": [
    "import matplotlib.pyplot as plt\n",
    "import matplotlib as mlp\n",
    "\n",
    "mlp.style.use('classic')\n",
    "\n",
    "%matplotlib inline\n",
    "\n",
    "import numpy as np\n",
    "\n",
    "from keras.models import Model\n",
    "from keras.optimizers import Adam, SGD\n",
    "from keras.layers import Input, LSTM, LSTMCell, Dense, SimpleRNN\n",
    "from keras.utils.vis_utils import plot_model\n",
    "from keras import backend as K\n",
    "\n",
    "K.set_session(\n",
    "    K.tf.Session(\n",
    "        config=K.tf.ConfigProto(\n",
    "            intra_op_parallelism_threads=32,\n",
    "            inter_op_parallelism_threads=32)\n",
    "    )\n",
    ")\n",
    "\n",
    "import tensorflow as tf\n",
    "tf.__version__\n",
    "\n",
    "def sigmoid(a):\n",
    "    return 1 / (1 + np.exp(-a))\n",
    "\n",
    "adf = pd.read_csv('./data/info-latching/seq_len_10.csv')\n",
    "\n",
    "# -1: not counting label column\n",
    "seq_len = adf.shape[1] - 1\n",
    "N = adf.shape[0]\n",
    "batch_size = 100\n",
    "\n",
    "train_xs = adf.drop('label', axis=1).values.reshape(N, seq_len, 1)\n",
    "\n",
    "train_ys = adf.label.values"
   ]
  },
  {
   "cell_type": "code",
   "execution_count": 2,
   "metadata": {
    "nbpresent": {
     "id": "a4cda7cd-c2f8-4ad3-96e2-7c332f99a4fa"
    }
   },
   "outputs": [
    {
     "name": "stdout",
     "output_type": "stream",
     "text": [
      "Train on 8000 samples, validate on 2000 samples\n",
      "Epoch 1/30\n",
      "8000/8000 [==============================] - 2s 201us/step - loss: 0.2500 - acc: 0.5236 - val_loss: 0.2496 - val_acc: 0.5660\n",
      "Epoch 2/30\n",
      "8000/8000 [==============================] - 1s 136us/step - loss: 0.2482 - acc: 0.5150 - val_loss: 0.2446 - val_acc: 0.5205\n",
      "Epoch 3/30\n",
      "8000/8000 [==============================] - 1s 138us/step - loss: 0.2305 - acc: 0.5460 - val_loss: 0.2011 - val_acc: 0.8165\n",
      "Epoch 4/30\n",
      "8000/8000 [==============================] - 1s 136us/step - loss: 0.1568 - acc: 0.9700 - val_loss: 0.1138 - val_acc: 1.0000\n",
      "Epoch 5/30\n",
      "8000/8000 [==============================] - 1s 134us/step - loss: 0.0936 - acc: 0.9998 - val_loss: 0.0777 - val_acc: 1.0000\n",
      "Epoch 6/30\n",
      "8000/8000 [==============================] - 1s 138us/step - loss: 0.0689 - acc: 0.9996 - val_loss: 0.0607 - val_acc: 1.0000\n",
      "Epoch 7/30\n",
      "8000/8000 [==============================] - 1s 136us/step - loss: 0.0550 - acc: 0.9996 - val_loss: 0.0495 - val_acc: 1.0000\n",
      "Epoch 8/30\n",
      "8000/8000 [==============================] - 1s 134us/step - loss: 0.0454 - acc: 0.9998 - val_loss: 0.0412 - val_acc: 1.0000\n",
      "Epoch 9/30\n",
      "8000/8000 [==============================] - 1s 137us/step - loss: 0.0381 - acc: 0.9999 - val_loss: 0.0348 - val_acc: 1.0000\n",
      "Epoch 10/30\n",
      "8000/8000 [==============================] - 1s 142us/step - loss: 0.0324 - acc: 0.9998 - val_loss: 0.0297 - val_acc: 1.0000\n",
      "Epoch 11/30\n",
      "8000/8000 [==============================] - 1s 138us/step - loss: 0.0278 - acc: 0.9999 - val_loss: 0.0256 - val_acc: 1.0000\n",
      "Epoch 12/30\n",
      "8000/8000 [==============================] - 1s 137us/step - loss: 0.0240 - acc: 0.9999 - val_loss: 0.0222 - val_acc: 1.0000\n",
      "Epoch 13/30\n",
      "8000/8000 [==============================] - 1s 139us/step - loss: 0.0209 - acc: 0.9999 - val_loss: 0.0194 - val_acc: 1.0000\n",
      "Epoch 14/30\n",
      "8000/8000 [==============================] - 1s 139us/step - loss: 0.0184 - acc: 0.9999 - val_loss: 0.0171 - val_acc: 1.0000\n",
      "Epoch 15/30\n",
      "8000/8000 [==============================] - 1s 138us/step - loss: 0.0162 - acc: 0.9999 - val_loss: 0.0151 - val_acc: 1.0000\n",
      "Epoch 16/30\n",
      "8000/8000 [==============================] - 1s 138us/step - loss: 0.0143 - acc: 0.9999 - val_loss: 0.0134 - val_acc: 1.0000\n",
      "Epoch 17/30\n",
      "8000/8000 [==============================] - 1s 144us/step - loss: 0.0127 - acc: 1.0000 - val_loss: 0.0119 - val_acc: 1.0000\n",
      "Epoch 18/30\n",
      "8000/8000 [==============================] - 1s 139us/step - loss: 0.0113 - acc: 1.0000 - val_loss: 0.0106 - val_acc: 1.0000\n",
      "Epoch 19/30\n",
      "8000/8000 [==============================] - 1s 125us/step - loss: 0.0102 - acc: 1.0000 - val_loss: 0.0096 - val_acc: 1.0000\n",
      "Epoch 20/30\n",
      "8000/8000 [==============================] - 1s 116us/step - loss: 0.0093 - acc: 1.0000 - val_loss: 0.0089 - val_acc: 1.0000\n",
      "Epoch 21/30\n",
      "8000/8000 [==============================] - 1s 112us/step - loss: 0.0086 - acc: 1.0000 - val_loss: 0.0082 - val_acc: 1.0000\n",
      "Epoch 22/30\n",
      "8000/8000 [==============================] - 1s 101us/step - loss: 0.0080 - acc: 1.0000 - val_loss: 0.0077 - val_acc: 1.0000\n",
      "Epoch 23/30\n",
      "8000/8000 [==============================] - 1s 110us/step - loss: 0.0074 - acc: 1.0000 - val_loss: 0.0071 - val_acc: 1.0000\n",
      "Epoch 24/30\n",
      "8000/8000 [==============================] - 1s 109us/step - loss: 0.0069 - acc: 1.0000 - val_loss: 0.0067 - val_acc: 1.0000\n",
      "Epoch 25/30\n",
      "8000/8000 [==============================] - 1s 119us/step - loss: 0.0065 - acc: 1.0000 - val_loss: 0.0062 - val_acc: 1.0000\n",
      "Epoch 26/30\n",
      "8000/8000 [==============================] - 1s 115us/step - loss: 0.0060 - acc: 1.0000 - val_loss: 0.0058 - val_acc: 1.0000\n",
      "Epoch 27/30\n",
      "8000/8000 [==============================] - 1s 112us/step - loss: 0.0056 - acc: 1.0000 - val_loss: 0.0055 - val_acc: 1.0000\n",
      "Epoch 28/30\n",
      "8000/8000 [==============================] - 1s 97us/step - loss: 0.0053 - acc: 1.0000 - val_loss: 0.0051 - val_acc: 1.0000\n",
      "Epoch 29/30\n",
      "8000/8000 [==============================] - 1s 94us/step - loss: 0.0050 - acc: 1.0000 - val_loss: 0.0048 - val_acc: 1.0000\n",
      "Epoch 30/30\n",
      "8000/8000 [==============================] - 1s 100us/step - loss: 0.0047 - acc: 1.0000 - val_loss: 0.0045 - val_acc: 1.0000\n"
     ]
    }
   ],
   "source": [
    "inputs = Input(shape=(None, 1), name='input')\n",
    "rnn = LSTM(1, input_shape=(None, 1), name='rnn')\n",
    "rnn_out = rnn(inputs)\n",
    "dense = Dense(1, activation='sigmoid', name='output')\n",
    "dense_out = dense(rnn_out)\n",
    "model = Model(inputs, dense_out)\n",
    "optm = Adam(lr=1e-3, clipnorm=1)\n",
    "# optm = SGD(lr=1e-5, decay=1e-6, momentum=0.9, nesterov=True)\n",
    "# model.compile(optimizer=adam, loss='sparse_categorical_crossentropy', metrics=['accuracy'])\n",
    "model.compile(optimizer=optm, loss='mse', metrics=['accuracy'])\n",
    "hist = model.fit(train_xs, train_ys,\n",
    "                 batch_size=batch_size,\n",
    "                 epochs=30,\n",
    "                 validation_split=0.2, \n",
    "                 verbose=1)"
   ]
  },
  {
   "cell_type": "code",
   "execution_count": 3,
   "metadata": {},
   "outputs": [
    {
     "data": {
      "image/png": "[encoded data removed]",
      "text/plain": [
       "<Figure size 576x252 with 2 Axes>"
      ]
     },
     "metadata": {},
     "output_type": "display_data"
    }
   ],
   "source": [
    "fig, axes = plt.subplots(1, 2, sharex=True, sharey=True, figsize=(8, 3.5))\n",
    "axes = axes.ravel()\n",
    "\n",
    "for k, keys in enumerate([['loss', 'val_loss'], ['acc', 'val_acc']]):\n",
    "    ax = axes[k]\n",
    "    \n",
    "    for key in keys:\n",
    "        ax.plot(hist.history[key], 'o-', label=key)\n",
    "    ax.grid()\n",
    "    ax.legend(loc='center right')\n",
    "    ax.set_ylim(-0.03, 1.03)\n",
    "    ax.set_xlabel('# epochs')\n",
    "plt.tight_layout()"
   ]
  },
  {
   "cell_type": "code",
   "execution_count": 4,
   "metadata": {
    "scrolled": true
   },
   "outputs": [
    {
     "data": {
      "text/plain": [
       "[<matplotlib.lines.Line2D at 0x7fa6e00e6390>]"
      ]
     },
     "execution_count": 4,
     "metadata": {},
     "output_type": "execute_result"
    },
    {
     "data": {
      "image/png": "[encoded data removed]",
      "text/plain": [
       "<Figure size 432x288 with 1 Axes>"
      ]
     },
     "metadata": {},
     "output_type": "display_data"
    }
   ],
   "source": [
    "plt.plot(model.predict(train_xs[np.argsort(train_ys)]))"
   ]
  },
  {
   "cell_type": "markdown",
   "metadata": {},
   "source": [
    "ref: http://colah.github.io/posts/2015-08-Understanding-LSTMs/\n",
    "\n",
    "Since the input at each time step is only 1 dimension, so I used $w$ (scalar) instead of $W$ (matrix)."
   ]
  },
  {
   "cell_type": "markdown",
   "metadata": {},
   "source": [
    "<img src=\"https://raw.githubusercontent.com/zyxue/sutton-barto-rl-exercises/master/supervised/neuron_networks/lstm.png\" width=600/>"
   ]
  },
  {
   "cell_type": "markdown",
   "metadata": {},
   "source": [
    "Calculate gates:\n",
    "\n",
    "\\begin{align*}\n",
    "f_t &= \\sigma(w_f[h_{t-1}, x_t] + b_f) \\\\\n",
    "i_t &= \\sigma(w_i[h_{t-1}, x_t] + b_i) \\\\\n",
    "\\tilde{C}_t &= \\tanh(w_C[h_{t-1}, x_t] + b_C) \\\\\n",
    "o_t &= \\sigma(w_o[h_{t-1}, x_t] + b_o)\n",
    "\\end{align*}\n",
    "\n",
    "Update $C_t$ and $h_t$,\n",
    "\\begin{align*}\n",
    "C_t &= f_t * C_{t-1} + i_t * \\tilde{C}_t \\\\\n",
    "h_t &= o_t * \\tanh(C_t)\n",
    "\\end{align*}"
   ]
  },
  {
   "cell_type": "code",
   "execution_count": 5,
   "metadata": {
    "nbpresent": {
     "id": "044013d7-9e3c-4d1a-bded-2c0bed1d7f30"
    }
   },
   "outputs": [
    {
     "data": {
      "text/plain": [
       "[array([[-1.4620256e+00,  3.6272305e-01,  6.8717319e-01,  4.0708703e-04]],\n",
       "       dtype=float32),\n",
       " array([[-0.18914315, -0.6183619 ,  1.1779431 , -0.9139777 ]],\n",
       "       dtype=float32),\n",
       " array([1.0240248 , 1.9957571 , 0.15408403, 1.5878369 ], dtype=float32)]"
      ]
     },
     "execution_count": 5,
     "metadata": {},
     "output_type": "execute_result"
    }
   ],
   "source": [
    "rnn.get_weights()"
   ]
  },
  {
   "cell_type": "code",
   "execution_count": 6,
   "metadata": {},
   "outputs": [
    {
     "data": {
      "text/plain": [
       "array([[-1.4620256e+00,  3.6272305e-01,  6.8717319e-01,  4.0708703e-04],\n",
       "       [-1.8914315e-01, -6.1836189e-01,  1.1779431e+00, -9.1397768e-01]],\n",
       "      dtype=float32)"
      ]
     },
     "execution_count": 6,
     "metadata": {},
     "output_type": "execute_result"
    }
   ],
   "source": [
    "# ref: https://github.com/keras-team/keras/blob/d035967a5d2795734c89a0a3c002f7eb5c34eff1/keras/layers/recurrent.py#L1865\n",
    "kernel = np.array(rnn.get_weights()[:2])[:,0,:]\n",
    "kernel"
   ]
  },
  {
   "cell_type": "code",
   "execution_count": 7,
   "metadata": {},
   "outputs": [],
   "source": [
    "w_i, w_f, w_c, w_o = kernel.T\n",
    "b_i, b_f, b_c, b_o = rnn.get_weights()[-1]"
   ]
  },
  {
   "cell_type": "code",
   "execution_count": 8,
   "metadata": {
    "scrolled": true
   },
   "outputs": [
    {
     "name": "stdout",
     "output_type": "stream",
     "text": [
      "[-1.4620256  -0.18914315] 1.0240248\n",
      "[ 0.36272305 -0.6183619 ] 1.9957571\n",
      "[0.6871732 1.1779431] 0.15408403\n",
      "[ 4.0708703e-04 -9.1397768e-01] 1.5878369\n"
     ]
    }
   ],
   "source": [
    "print(w_i, b_i)\n",
    "print(w_f, b_f)\n",
    "print(w_c, b_c)\n",
    "print(w_o, b_o)"
   ]
  },
  {
   "cell_type": "code",
   "execution_count": 9,
   "metadata": {},
   "outputs": [
    {
     "name": "stdout",
     "output_type": "stream",
     "text": [
      "[3.1373634] [0.506981]\n"
     ]
    }
   ],
   "source": [
    "d_w0 = dense.get_weights()[0][0]\n",
    "d_b0 = dense.get_weights()[1]\n",
    "print(d_w0, d_b0)"
   ]
  },
  {
   "cell_type": "code",
   "execution_count": 10,
   "metadata": {
    "scrolled": true
   },
   "outputs": [
    {
     "name": "stdout",
     "output_type": "stream",
     "text": [
      "[0.08576471] [[0.0672553]]\n",
      "[0.08578086] [[0.06725942]]\n",
      "[0.08599309] [[0.06734566]]\n",
      "[0.08559202] [[0.0672425]]\n"
     ]
    }
   ],
   "source": [
    "for k, single_x in enumerate([train_xs[0], train_xs[1], train_xs[-2], train_xs[-1]]):\n",
    "    h_prev = 0\n",
    "    C_prev = 0\n",
    "\n",
    "    hist = []\n",
    "    for t in range(single_x.shape[0]):\n",
    "    #     cat_x = [h_prev, single_x[t][0]]\n",
    "        cat_x = [single_x[t][0], h_prev]\n",
    "        f_t = sigmoid(np.dot(w_f, cat_x) + b_f)\n",
    "        i_t = sigmoid(np.dot(w_i, cat_x) + b_i)\n",
    "        B_t = np.tanh(np.dot(w_c, cat_x) + b_c) # use B to mean \\tilde{C}\n",
    "        o_t = sigmoid(np.dot(w_o, cat_x) + b_o)\n",
    "\n",
    "        C_t = f_t * C_prev + i_t * B_t\n",
    "        h_t = o_t * np.tanh(C_t)\n",
    "\n",
    "        hist.append([f_t, i_t, B_t, o_t, C_t, h_t])\n",
    "\n",
    "        h_prev = h_t\n",
    "        C_prev = C_t\n",
    "    den_in = hist[-1][-1]\n",
    "    out = sigmoid(den_in * d_w0 + d_b0)\n",
    "    print(out, model.predict(np.array([single_x])))"
   ]
  },
  {
   "cell_type": "markdown",
   "metadata": {},
   "source": [
    "The mannual process and model prediction are highly correlated, but still not the same...., in constrast to simpler SimpleRNN process in another notebook."
   ]
  },
  {
   "cell_type": "code",
   "execution_count": null,
   "metadata": {},
   "outputs": [],
   "source": []
  },
  {
   "cell_type": "code",
   "execution_count": null,
   "metadata": {},
   "outputs": [],
   "source": []
  },
  {
   "cell_type": "code",
   "execution_count": null,
   "metadata": {},
   "outputs": [],
   "source": []
  },
  {
   "cell_type": "markdown",
   "metadata": {},
   "source": [
    "# Single x debugging and time step visualization"
   ]
  },
  {
   "cell_type": "code",
   "execution_count": 11,
   "metadata": {},
   "outputs": [],
   "source": [
    "single_x = train_xs[5]\n",
    "# single_x"
   ]
  },
  {
   "cell_type": "code",
   "execution_count": 12,
   "metadata": {},
   "outputs": [],
   "source": [
    "h_prev = 0\n",
    "C_prev = 0\n",
    "\n",
    "hist = []\n",
    "for t in range(single_x.shape[0]):\n",
    "#     cat_x = [h_prev, single_x[t][0]]\n",
    "    cat_x = [single_x[t][0], h_prev]\n",
    "    f_t = sigmoid(np.dot(w_f, cat_x) + b_f)\n",
    "    i_t = sigmoid(np.dot(w_i, cat_x) + b_i)\n",
    "    B_t = np.tanh(np.dot(w_c, cat_x) + b_c) # use B to mean \\tilde{C}\n",
    "    o_t = sigmoid(np.dot(w_o, cat_x) + b_o)\n",
    "\n",
    "    C_t = f_t * C_prev + i_t * B_t\n",
    "    h_t = o_t * np.tanh(C_t)\n",
    "\n",
    "    hist.append([f_t, i_t, B_t, o_t, C_t, h_t])\n",
    "\n",
    "    h_prev = h_t\n",
    "    C_prev = C_t"
   ]
  },
  {
   "cell_type": "code",
   "execution_count": 13,
   "metadata": {},
   "outputs": [
    {
     "data": {
      "image/png": "[encoded data removed]",
      "text/plain": [
       "<Figure size 864x432 with 6 Axes>"
      ]
     },
     "metadata": {},
     "output_type": "display_data"
    }
   ],
   "source": [
    "fig, axes = plt.subplots(2, 3, figsize=(12, 6), \n",
    "#                          sharex=True, sharey=True\n",
    "                        )\n",
    "axes = axes.ravel()\n",
    "\n",
    "for k, i in enumerate([\n",
    "    'forget_gate', 'input_gate', 'input_candidate', 'output_gate', \n",
    "    'cell_state', 'hidden_state'\n",
    "]):\n",
    "    ax = axes[k]\n",
    "    ax.plot(np.array(hist)[:,k], 'o-', label=i)\n",
    "    ax.legend(loc='best')\n",
    "    ax.grid()\n",
    "    \n",
    "    if k in [0, 1, 3]:\n",
    "        ax.set_ylim(0, 1)\n",
    "    if k == 2:\n",
    "        ax.set_ylim(-1, 1)\n",
    "\n",
    "plt.tight_layout()"
   ]
  },
  {
   "cell_type": "markdown",
   "metadata": {},
   "source": [
    "So seems that `input_candidate` are completely ignored"
   ]
  },
  {
   "cell_type": "code",
   "execution_count": 14,
   "metadata": {},
   "outputs": [
    {
     "data": {
      "text/plain": [
       "[array([[3.1373634]], dtype=float32), array([0.506981], dtype=float32)]"
      ]
     },
     "execution_count": 14,
     "metadata": {},
     "output_type": "execute_result"
    }
   ],
   "source": [
    "dense.get_weights()"
   ]
  },
  {
   "cell_type": "code",
   "execution_count": 15,
   "metadata": {},
   "outputs": [],
   "source": [
    "# den_in = hist[-1][-1] # dense input\n",
    "den_in = hist[-1][-1]"
   ]
  },
  {
   "cell_type": "code",
   "execution_count": 16,
   "metadata": {},
   "outputs": [
    {
     "data": {
      "text/plain": [
       "0.7087554367261066"
      ]
     },
     "execution_count": 16,
     "metadata": {},
     "output_type": "execute_result"
    }
   ],
   "source": [
    "den_in"
   ]
  },
  {
   "cell_type": "code",
   "execution_count": 17,
   "metadata": {},
   "outputs": [
    {
     "name": "stdout",
     "output_type": "stream",
     "text": [
      "[3.1373634] [0.506981]\n"
     ]
    }
   ],
   "source": [
    "d_w0 = dense.get_weights()[0][0]\n",
    "d_b0 = dense.get_weights()[1]\n",
    "print(d_w0, d_b0)"
   ]
  },
  {
   "cell_type": "code",
   "execution_count": 18,
   "metadata": {},
   "outputs": [
    {
     "data": {
      "text/plain": [
       "array([0.9388085], dtype=float32)"
      ]
     },
     "execution_count": 18,
     "metadata": {},
     "output_type": "execute_result"
    }
   ],
   "source": [
    "sigmoid(den_in * d_w0 + d_b0)"
   ]
  },
  {
   "cell_type": "code",
   "execution_count": 19,
   "metadata": {},
   "outputs": [
    {
     "data": {
      "text/plain": [
       "array([[0.93307644]], dtype=float32)"
      ]
     },
     "execution_count": 19,
     "metadata": {},
     "output_type": "execute_result"
    }
   ],
   "source": [
    "model.predict(np.array([single_x]))"
   ]
  },
  {
   "cell_type": "markdown",
   "metadata": {},
   "source": [
    "Followed equations from [colah's blog](http://colah.github.io/posts/2015-08-Understanding-LSTMs/), but there is always inconsistency.... "
   ]
  },
  {
   "cell_type": "code",
   "execution_count": null,
   "metadata": {},
   "outputs": [],
   "source": []
  }
 ],
 "metadata": {
  "kernelspec": {
   "display_name": "Python 3",
   "language": "python",
   "name": "python3"
  },
  "language_info": {
   "codemirror_mode": {
    "name": "ipython",
    "version": 3
   },
   "file_extension": ".py",
   "mimetype": "text/x-python",
   "name": "python",
   "nbconvert_exporter": "python",
   "pygments_lexer": "ipython3",
   "version": "3.6.5"
  }
 },
 "nbformat": 4,
 "nbformat_minor": 2
}
