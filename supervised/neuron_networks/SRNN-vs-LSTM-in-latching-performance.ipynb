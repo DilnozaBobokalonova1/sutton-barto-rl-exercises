{
 "cells": [
  {
   "cell_type": "markdown",
   "metadata": {},
   "source": [
    "Repeat of the experiment done in \n",
    "\n",
    "**Learning long-term dependencies with gradient descent is difficult**\n",
    "\n",
    "https://dl.acm.org/citation.cfm?id=2328340"
   ]
  },
  {
   "cell_type": "code",
   "execution_count": 10,
   "metadata": {},
   "outputs": [],
   "source": [
    "import matplotlib.pyplot as plt\n",
    "\n",
    "%matplotlib inline"
   ]
  },
  {
   "cell_type": "code",
   "execution_count": 1,
   "metadata": {},
   "outputs": [
    {
     "name": "stderr",
     "output_type": "stream",
     "text": [
      "/projects/btl2/zxue/miniconda3/envs/venv-tf-cpu/lib/python3.5/site-packages/h5py/__init__.py:36: FutureWarning: Conversion of the second argument of issubdtype from `float` to `np.floating` is deprecated. In future, it will be treated as `np.float64 == np.dtype(float).type`.\n",
      "  from ._conv import register_converters as _register_converters\n",
      "Using TensorFlow backend.\n"
     ]
    }
   ],
   "source": [
    "import numpy as np\n",
    "\n",
    "from keras.models import Model\n",
    "from keras.layers import Input, LSTM, Dense, SimpleRNN\n",
    "from keras.utils.vis_utils import plot_model\n",
    "from keras import backend as K"
   ]
  },
  {
   "cell_type": "code",
   "execution_count": 3,
   "metadata": {},
   "outputs": [
    {
     "name": "stdout",
     "output_type": "stream",
     "text": [
      "srnn: 2,5,8,10,15,20,25,30,30,40,50,60,70,80,90,100,110,120,130,140,150,160,170,180,190,200,\n",
      "lstm: 2,5,8,10,15,20,25,30,30,40,50,60,70,80,90,100,110,120,130,140,150,160,170,180,190,200,\n"
     ]
    }
   ],
   "source": [
    "N = 10000\n",
    "num_epochs = 30\n",
    "# sequence length options\n",
    "lens = [2, 5, 8, 10, 15, 20, 25, 30] + np.arange(30, 210, 10).tolist()\n",
    "\n",
    "res = {}\n",
    "for (RNN_CELL, key) in zip([SimpleRNN, LSTM], ['srnn', 'lstm']):\n",
    "    res[key] = {}\n",
    "    print(key, end=': ')\n",
    "    for seq_len in lens:\n",
    "        print(seq_len, end=',')\n",
    "        xs = np.zeros((N, seq_len))\n",
    "        ys = np.zeros(N)\n",
    "\n",
    "        # construct input data\n",
    "        positive_indexes = np.arange(N // 2)\n",
    "        negative_indexes = np.arange(N // 2, N)\n",
    "\n",
    "        xs[positive_indexes, 0] = 1\n",
    "        ys[positive_indexes] = 1\n",
    "\n",
    "        xs[negative_indexes, 0] = -1\n",
    "        ys[negative_indexes] = 0\n",
    "\n",
    "        noise = np.random.normal(loc=0, scale=0.1, size=(N, seq_len))\n",
    "\n",
    "        train_xs = (xs + noise).reshape(N, seq_len, 1)\n",
    "        train_ys = ys\n",
    "\n",
    "        # train for multiple epochs\n",
    "        hists = []\n",
    "        for i in range(num_epochs):\n",
    "            inputs = Input(shape=(None, 1), name='input')\n",
    "            # rnn = SimpleRNN(1, input_shape=(None, 1), name='rnn')(inputs)\n",
    "            rnn = RNN_CELL(1, input_shape=(None, 1), name='rnn')(inputs)\n",
    "            out = Dense(2, activation='softmax', name='output')(rnn)\n",
    "            model = Model(inputs, out)\n",
    "            model.compile(optimizer='adam', loss='sparse_categorical_crossentropy', metrics=['accuracy'])\n",
    "            hist = model.fit(train_xs, train_ys, epochs=5, shuffle=True, validation_split=0.2, batch_size=16, verbose=0)\n",
    "            hists.append(hist.history['val_acc'][-1])\n",
    "        res[key][seq_len] = hists\n",
    "    print()"
   ]
  },
  {
   "cell_type": "code",
   "execution_count": 18,
   "metadata": {},
   "outputs": [
    {
     "data": {
      "image/png": "[encoded data removed]",
      "text/plain": [
       "<Figure size 432x288 with 1 Axes>"
      ]
     },
     "metadata": {},
     "output_type": "display_data"
    }
   ],
   "source": [
    "fig = plt.figure()\n",
    "ax = fig.add_subplot(111)\n",
    "ax.plot(pd.DataFrame.from_dict(res['lstm']).mean(), 'o-', label='lstm')\n",
    "ax.plot(pd.DataFrame.from_dict(res['srnn']).mean(), 'o-', label='srnn')\n",
    "ax.set_xlabel('Sequence length')\n",
    "ax.set_ylabel('Frequency of successful training')\n",
    "ax.legend()\n",
    "ax.grid()"
   ]
  },
  {
   "cell_type": "code",
   "execution_count": null,
   "metadata": {},
   "outputs": [],
   "source": []
  }
 ],
 "metadata": {
  "kernelspec": {
   "display_name": "Python 3",
   "language": "python",
   "name": "python3"
  },
  "language_info": {
   "codemirror_mode": {
    "name": "ipython",
    "version": 3
   },
   "file_extension": ".py",
   "mimetype": "text/x-python",
   "name": "python",
   "nbconvert_exporter": "python",
   "pygments_lexer": "ipython3",
   "version": "3.5.5"
  }
 },
 "nbformat": 4,
 "nbformat_minor": 2
}
