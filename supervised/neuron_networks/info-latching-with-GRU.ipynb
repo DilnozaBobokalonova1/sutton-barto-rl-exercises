{
 "cells": [
  {
   "cell_type": "markdown",
   "metadata": {
    "nbpresent": {
     "id": "a75eb6bf-344e-432c-b9bd-2fbc397bc527"
    }
   },
   "source": [
    "This notebook is mostly the same as LSTM-gates-investigation.ipynb, but with longer sequences and a large number of epochs."
   ]
  },
  {
   "cell_type": "code",
   "execution_count": 1,
   "metadata": {
    "nbpresent": {
     "id": "1be13854-f9bd-4bab-843b-dc531f20e885"
    }
   },
   "outputs": [
    {
     "name": "stderr",
     "output_type": "stream",
     "text": [
      "Using TensorFlow backend.\n"
     ]
    },
    {
     "name": "stdout",
     "output_type": "stream",
     "text": [
      "1.7.0\n"
     ]
    }
   ],
   "source": [
    "import matplotlib.pyplot as plt\n",
    "import matplotlib as mlp\n",
    "\n",
    "mlp.style.use('classic')\n",
    "\n",
    "%matplotlib inline\n",
    "\n",
    "import numpy as np\n",
    "\n",
    "from keras.models import Model\n",
    "from keras.optimizers import Adam, SGD\n",
    "from keras.layers import Input, LSTM, LSTMCell, Dense, SimpleRNN, GRU\n",
    "from keras.utils.vis_utils import plot_model\n",
    "from keras import backend as K\n",
    "\n",
    "K.set_session(\n",
    "    K.tf.Session(\n",
    "        config=K.tf.ConfigProto(\n",
    "            intra_op_parallelism_threads=32,\n",
    "            inter_op_parallelism_threads=32)\n",
    "    )\n",
    ")\n",
    "\n",
    "import tensorflow as tf\n",
    "print(tf.__version__)\n",
    "\n",
    "def sigmoid(a):\n",
    "    return 1 / (1 + np.exp(-a))\n",
    "\n",
    "adf = pd.read_csv('./data/info-latching/seq_len_10.csv')\n",
    "\n",
    "# -1: not counting label column\n",
    "seq_len = adf.shape[1] - 1\n",
    "N = adf.shape[0]\n",
    "batch_size = 100\n",
    "\n",
    "train_xs = adf.drop('label', axis=1).values.reshape(N, seq_len, 1)\n",
    "\n",
    "train_ys = adf.label.values"
   ]
  },
  {
   "cell_type": "code",
   "execution_count": 2,
   "metadata": {
    "nbpresent": {
     "id": "a4cda7cd-c2f8-4ad3-96e2-7c332f99a4fa"
    }
   },
   "outputs": [
    {
     "name": "stdout",
     "output_type": "stream",
     "text": [
      "Train on 8000 samples, validate on 2000 samples\n",
      "Epoch 1/30\n",
      "8000/8000 [==============================] - 1s 170us/step - loss: 0.2499 - acc: 0.5120 - val_loss: 0.2499 - val_acc: 0.5055\n",
      "Epoch 2/30\n",
      "8000/8000 [==============================] - 1s 99us/step - loss: 0.2497 - acc: 0.5177 - val_loss: 0.2496 - val_acc: 0.5175\n",
      "Epoch 3/30\n",
      "8000/8000 [==============================] - 1s 95us/step - loss: 0.2493 - acc: 0.5249 - val_loss: 0.2490 - val_acc: 0.5275\n",
      "Epoch 4/30\n",
      "8000/8000 [==============================] - 1s 94us/step - loss: 0.2481 - acc: 0.5592 - val_loss: 0.2466 - val_acc: 0.5860\n",
      "Epoch 5/30\n",
      "8000/8000 [==============================] - 1s 97us/step - loss: 0.2428 - acc: 0.6445 - val_loss: 0.2360 - val_acc: 0.6985\n",
      "Epoch 6/30\n",
      "8000/8000 [==============================] - 1s 96us/step - loss: 0.2226 - acc: 0.7461 - val_loss: 0.2022 - val_acc: 0.8820\n",
      "Epoch 7/30\n",
      "8000/8000 [==============================] - 1s 106us/step - loss: 0.1720 - acc: 0.9539 - val_loss: 0.1344 - val_acc: 0.9945\n",
      "Epoch 8/30\n",
      "8000/8000 [==============================] - 1s 115us/step - loss: 0.0994 - acc: 0.9980 - val_loss: 0.0699 - val_acc: 0.9975\n",
      "Epoch 9/30\n",
      "8000/8000 [==============================] - 1s 109us/step - loss: 0.0540 - acc: 0.9980 - val_loss: 0.0422 - val_acc: 0.9980\n",
      "Epoch 10/30\n",
      "8000/8000 [==============================] - 1s 106us/step - loss: 0.0350 - acc: 0.9990 - val_loss: 0.0294 - val_acc: 0.9990\n",
      "Epoch 11/30\n",
      "8000/8000 [==============================] - 1s 105us/step - loss: 0.0254 - acc: 0.9995 - val_loss: 0.0222 - val_acc: 0.9995\n",
      "Epoch 12/30\n",
      "8000/8000 [==============================] - 1s 100us/step - loss: 0.0196 - acc: 0.9998 - val_loss: 0.0174 - val_acc: 1.0000\n",
      "Epoch 13/30\n",
      "8000/8000 [==============================] - 1s 101us/step - loss: 0.0156 - acc: 0.9998 - val_loss: 0.0141 - val_acc: 1.0000\n",
      "Epoch 14/30\n",
      "8000/8000 [==============================] - 1s 97us/step - loss: 0.0128 - acc: 0.9998 - val_loss: 0.0117 - val_acc: 1.0000\n",
      "Epoch 15/30\n",
      "8000/8000 [==============================] - 1s 90us/step - loss: 0.0108 - acc: 0.9999 - val_loss: 0.0099 - val_acc: 1.0000\n",
      "Epoch 16/30\n",
      "8000/8000 [==============================] - 1s 90us/step - loss: 0.0092 - acc: 0.9999 - val_loss: 0.0085 - val_acc: 1.0000\n",
      "Epoch 17/30\n",
      "8000/8000 [==============================] - 1s 94us/step - loss: 0.0079 - acc: 0.9999 - val_loss: 0.0074 - val_acc: 1.0000\n",
      "Epoch 18/30\n",
      "8000/8000 [==============================] - 1s 88us/step - loss: 0.0069 - acc: 0.9999 - val_loss: 0.0065 - val_acc: 1.0000\n",
      "Epoch 19/30\n",
      "8000/8000 [==============================] - 1s 92us/step - loss: 0.0061 - acc: 0.9999 - val_loss: 0.0057 - val_acc: 1.0000\n",
      "Epoch 20/30\n",
      "8000/8000 [==============================] - 1s 92us/step - loss: 0.0054 - acc: 0.9999 - val_loss: 0.0051 - val_acc: 1.0000\n",
      "Epoch 21/30\n",
      "8000/8000 [==============================] - 1s 96us/step - loss: 0.0049 - acc: 1.0000 - val_loss: 0.0046 - val_acc: 1.0000\n",
      "Epoch 22/30\n",
      "8000/8000 [==============================] - 1s 89us/step - loss: 0.0044 - acc: 1.0000 - val_loss: 0.0042 - val_acc: 1.0000\n",
      "Epoch 23/30\n",
      "8000/8000 [==============================] - 1s 88us/step - loss: 0.0040 - acc: 1.0000 - val_loss: 0.0038 - val_acc: 1.0000\n",
      "Epoch 24/30\n",
      "8000/8000 [==============================] - 1s 90us/step - loss: 0.0036 - acc: 1.0000 - val_loss: 0.0035 - val_acc: 1.0000\n",
      "Epoch 25/30\n",
      "8000/8000 [==============================] - 1s 86us/step - loss: 0.0033 - acc: 1.0000 - val_loss: 0.0032 - val_acc: 1.0000\n",
      "Epoch 26/30\n",
      "8000/8000 [==============================] - 1s 89us/step - loss: 0.0030 - acc: 1.0000 - val_loss: 0.0029 - val_acc: 1.0000\n",
      "Epoch 27/30\n",
      "8000/8000 [==============================] - 1s 88us/step - loss: 0.0028 - acc: 1.0000 - val_loss: 0.0027 - val_acc: 1.0000\n",
      "Epoch 28/30\n",
      "8000/8000 [==============================] - 1s 89us/step - loss: 0.0026 - acc: 1.0000 - val_loss: 0.0025 - val_acc: 1.0000\n",
      "Epoch 29/30\n",
      "8000/8000 [==============================] - 1s 86us/step - loss: 0.0024 - acc: 1.0000 - val_loss: 0.0023 - val_acc: 1.0000\n",
      "Epoch 30/30\n",
      "8000/8000 [==============================] - 1s 84us/step - loss: 0.0022 - acc: 1.0000 - val_loss: 0.0021 - val_acc: 1.0000\n",
      "CPU times: user 1min 6s, sys: 16.1 s, total: 1min 22s\n",
      "Wall time: 24.1 s\n"
     ]
    }
   ],
   "source": [
    "%%time\n",
    "inputs = Input(shape=(None, 1), name='input')\n",
    "rnn = GRU(1, input_shape=(None, 1), name='rnn')\n",
    "rnn_out = rnn(inputs)\n",
    "dense = Dense(1, activation='sigmoid', name='output')\n",
    "dense_out = dense(rnn_out)\n",
    "model = Model(inputs, dense_out)\n",
    "optm = Adam(lr=1e-3, clipnorm=1)\n",
    "# optm = SGD(lr=1e-5, decay=1e-6, momentum=0.9, nesterov=True)\n",
    "# model.compile(optimizer=adam, loss='sparse_categorical_crossentropy', metrics=['accuracy'])\n",
    "model.compile(optimizer=optm, loss='mse', metrics=['accuracy'])\n",
    "\n",
    "hist = model.fit(train_xs, train_ys,\n",
    "                 batch_size=batch_size,\n",
    "                 epochs=30,\n",
    "                 validation_split=0.2, \n",
    "                 verbose=1,\n",
    "#                  callbacks = [EarlyStopping(monitor='loss', min_delta=1e-5)]\n",
    "                )"
   ]
  },
  {
   "cell_type": "code",
   "execution_count": 3,
   "metadata": {},
   "outputs": [
    {
     "data": {
      "image/png": "[encoded data removed]",
      "text/plain": [
       "<Figure size 576x252 with 2 Axes>"
      ]
     },
     "metadata": {},
     "output_type": "display_data"
    }
   ],
   "source": [
    "fig, axes = plt.subplots(1, 2, sharex=True, sharey=True, figsize=(8, 3.5))\n",
    "axes = axes.ravel()\n",
    "\n",
    "for k, keys in enumerate([['loss', 'val_loss'], ['acc', 'val_acc']]):\n",
    "    ax = axes[k]\n",
    "    \n",
    "    for key in keys:\n",
    "        ax.plot(hist.history[key], 'o-', label=key)\n",
    "    ax.grid()\n",
    "    ax.legend(loc='center right')\n",
    "    ax.set_ylim(-0.03, 1.03)\n",
    "    ax.set_xlabel('# epochs')\n",
    "plt.tight_layout()"
   ]
  },
  {
   "cell_type": "code",
   "execution_count": 4,
   "metadata": {},
   "outputs": [
    {
     "data": {
      "text/plain": [
       "[<matplotlib.lines.Line2D at 0x7f778470a048>]"
      ]
     },
     "execution_count": 4,
     "metadata": {},
     "output_type": "execute_result"
    },
    {
     "data": {
      "image/png": "[encoded data removed]",
      "text/plain": [
       "<Figure size 432x288 with 1 Axes>"
      ]
     },
     "metadata": {},
     "output_type": "display_data"
    }
   ],
   "source": [
    "plt.plot(model.predict(train_xs[np.argsort(train_ys)]))"
   ]
  },
  {
   "cell_type": "markdown",
   "metadata": {},
   "source": [
    "ref: http://colah.github.io/posts/2015-08-Understanding-LSTMs/\n",
    "\n",
    "Since the input at each time step is only 1 dimension, so I used $w$ (scalar) instead of $W$ (matrix)."
   ]
  },
  {
   "cell_type": "markdown",
   "metadata": {},
   "source": [
    "<img src=\"https://raw.githubusercontent.com/zyxue/sutton-barto-rl-exercises/master/supervised/neuron_networks/gru.png\" width=600/>"
   ]
  },
  {
   "cell_type": "markdown",
   "metadata": {},
   "source": [
    "Calculate gates:\n",
    "\n",
    "\\begin{align*}\n",
    "r_t &= \\sigma(w_r[h_{t-1}, x_t] + b_r) \\\\\n",
    "z_t &= \\sigma(w_z[h_{t-1}, x_t] + b_z) \\\\\n",
    "\\tilde{h}_t &= \\tanh(w_h[r_t \\odot h_{t-1}, x_t] + b_h) \\\\\n",
    "h_t &= z_t \\odot h_{t-1} + (1 - z_t) \\odot \\tilde{h}_t\n",
    "\\end{align*}\n",
    "\n",
    "For the last equation, $(1 - z_t)$ and $z_t$ could be switched without affecting the results. I used the form  consistent with that in [Learning to Execute](https://arxiv.org/pdf/1410.4615.pdf) instead of http://colah.github.io/posts/2015-08-Understanding-LSTMs/, since the former appears to be consistent with the form implemented in Keras."
   ]
  },
  {
   "cell_type": "code",
   "execution_count": 5,
   "metadata": {
    "nbpresent": {
     "id": "044013d7-9e3c-4d1a-bded-2c0bed1d7f30"
    }
   },
   "outputs": [
    {
     "data": {
      "text/plain": [
       "[array([[ 2.4769294, -2.1732652,  1.9603004]], dtype=float32),\n",
       " array([[-2.7047381 , -0.05110962,  1.569025  ]], dtype=float32),\n",
       " array([0.5982965, 1.7411941, 0.3563405], dtype=float32)]"
      ]
     },
     "execution_count": 5,
     "metadata": {},
     "output_type": "execute_result"
    }
   ],
   "source": [
    "rnn.get_weights()"
   ]
  },
  {
   "cell_type": "code",
   "execution_count": 6,
   "metadata": {},
   "outputs": [
    {
     "data": {
      "text/plain": [
       "array([[ 2.4769294 , -2.1732652 ,  1.9603004 ],\n",
       "       [-2.7047381 , -0.05110962,  1.569025  ]], dtype=float32)"
      ]
     },
     "execution_count": 6,
     "metadata": {},
     "output_type": "execute_result"
    }
   ],
   "source": [
    "# ref: https://github.com/keras-team/keras/blob/d035967a5d2795734c89a0a3c002f7eb5c34eff1/keras/layers/recurrent.py#L1296\n",
    "kernel = np.array(rnn.get_weights()[:2])[:,0,:]\n",
    "kernel"
   ]
  },
  {
   "cell_type": "code",
   "execution_count": 7,
   "metadata": {},
   "outputs": [],
   "source": [
    "w_z, w_r, w_h = kernel.T\n",
    "b_z, b_r, b_h = rnn.get_weights()[-1]"
   ]
  },
  {
   "cell_type": "code",
   "execution_count": 8,
   "metadata": {
    "scrolled": true
   },
   "outputs": [
    {
     "name": "stdout",
     "output_type": "stream",
     "text": [
      "[ 2.4769294 -2.7047381] 0.5982965\n",
      "[-2.1732652  -0.05110962] 1.7411941\n",
      "[1.9603004 1.569025 ] 0.3563405\n"
     ]
    }
   ],
   "source": [
    "print(w_z, b_z)\n",
    "print(w_r, b_r)\n",
    "print(w_h, b_h)"
   ]
  },
  {
   "cell_type": "code",
   "execution_count": 9,
   "metadata": {},
   "outputs": [
    {
     "name": "stdout",
     "output_type": "stream",
     "text": [
      "[3.5899737] [-0.19562314]\n"
     ]
    }
   ],
   "source": [
    "d_w0 = dense.get_weights()[0][0]\n",
    "d_b0 = dense.get_weights()[1]\n",
    "print(d_w0, d_b0)"
   ]
  },
  {
   "cell_type": "code",
   "execution_count": 10,
   "metadata": {
    "scrolled": true
   },
   "outputs": [
    {
     "name": "stdout",
     "output_type": "stream",
     "text": [
      "[9758 1023  589 1995]\n",
      "[0.95203435] [[0.952283]]\n",
      "[0.06684057] [[0.04142882]]\n",
      "[0.959427] [[0.958656]]\n",
      "[0.05395984] [[0.03973615]]\n"
     ]
    }
   ],
   "source": [
    "rand_idx = np.random.choice(np.arange(train_xs.shape[0]), 4)\n",
    "print(rand_idx)\n",
    "for k, single_x in enumerate(train_xs[rand_idx]):\n",
    "    h_prev = 0\n",
    "    C_prev = 0\n",
    "\n",
    "    hist = []\n",
    "    for t in range(single_x.shape[0]):\n",
    "        z_t = sigmoid(np.dot(w_z, [single_x[t][0], h_prev]) + b_z)\n",
    "        r_t = sigmoid(np.dot(w_r, [single_x[t][0], h_prev]) + b_r)\n",
    "        h_t_tilde = np.tanh(np.dot(w_h, [single_x[t][0], r_t * h_prev]) + b_h) # use B to mean \\tilde{C}\n",
    "        h_t = (z_t) * h_prev + (1 - z_t) * h_t_tilde\n",
    "\n",
    "        hist.append([z_t, r_t, h_t_tilde, h_t])\n",
    "\n",
    "        h_prev = h_t\n",
    "    den_in = hist[-1][-1]\n",
    "    out = sigmoid(den_in * d_w0 + d_b0)\n",
    "    print(out, model.predict(np.array([single_x])))"
   ]
  },
  {
   "cell_type": "markdown",
   "metadata": {},
   "source": [
    "The mannual process and model prediction are highly correlated, but still not the same...., in constrast to simpler SimpleRNN process in another notebook."
   ]
  },
  {
   "cell_type": "markdown",
   "metadata": {},
   "source": [
    "# Single x debugging and time step visualization"
   ]
  },
  {
   "cell_type": "code",
   "execution_count": 11,
   "metadata": {},
   "outputs": [],
   "source": [
    "single_x = train_xs[5]\n",
    "# single_x"
   ]
  },
  {
   "cell_type": "code",
   "execution_count": 12,
   "metadata": {},
   "outputs": [],
   "source": [
    "h_prev = 0\n",
    "C_prev = 0\n",
    "\n",
    "hist = []\n",
    "for t in range(single_x.shape[0]):\n",
    "    z_t = sigmoid(np.dot(w_z, [single_x[t][0], h_prev]) + b_z)\n",
    "    r_t = sigmoid(np.dot(w_r, [single_x[t][0], h_prev]) + b_r)\n",
    "    h_t_tilde = np.tanh(np.dot(w_h, [single_x[t][0], r_t * h_prev]) + b_h) # use B to mean \\tilde{C}\n",
    "    h_t = (z_t) * h_prev + (1 - z_t) * h_t_tilde\n",
    "\n",
    "    hist.append([z_t, r_t, h_t_tilde, h_t])\n",
    "\n",
    "    h_prev = h_t"
   ]
  },
  {
   "cell_type": "markdown",
   "metadata": {},
   "source": [
    "Copied the formulas here for easy reference:"
   ]
  },
  {
   "cell_type": "markdown",
   "metadata": {},
   "source": [
    "\\begin{align*}\n",
    "r_t &= \\sigma(w_r[h_{t-1}, x_t] + b_r) \\\\\n",
    "z_t &= \\sigma(w_z[h_{t-1}, x_t] + b_z) \\\\\n",
    "\\tilde{h}_t &= \\tanh(w_h[r_t \\odot h_{t-1}, x_t] + b_h) \\\\\n",
    "h_t &= z_t \\odot h_{t-1} + (1 - z_t) \\odot \\tilde{h}_t\n",
    "\\end{align*}"
   ]
  },
  {
   "cell_type": "code",
   "execution_count": 13,
   "metadata": {},
   "outputs": [
    {
     "data": {
      "text/plain": [
       "1.9603004"
      ]
     },
     "execution_count": 13,
     "metadata": {},
     "output_type": "execute_result"
    }
   ],
   "source": [
    "w_h[0]"
   ]
  },
  {
   "cell_type": "code",
   "execution_count": 14,
   "metadata": {},
   "outputs": [
    {
     "data": {
      "text/plain": [
       "0.3563405"
      ]
     },
     "execution_count": 14,
     "metadata": {},
     "output_type": "execute_result"
    }
   ],
   "source": [
    "b_h"
   ]
  },
  {
   "cell_type": "code",
   "execution_count": 15,
   "metadata": {},
   "outputs": [
    {
     "data": {
      "text/plain": [
       "2.3166409"
      ]
     },
     "execution_count": 15,
     "metadata": {},
     "output_type": "execute_result"
    }
   ],
   "source": [
    "w_h[0] + b_h"
   ]
  },
  {
   "cell_type": "code",
   "execution_count": 16,
   "metadata": {},
   "outputs": [
    {
     "data": {
      "text/plain": [
       "-1.6039599"
      ]
     },
     "execution_count": 16,
     "metadata": {},
     "output_type": "execute_result"
    }
   ],
   "source": [
    "- w_h[0] + b_h"
   ]
  },
  {
   "cell_type": "code",
   "execution_count": 17,
   "metadata": {},
   "outputs": [
    {
     "data": {
      "text/plain": [
       "0.980741649909103"
      ]
     },
     "execution_count": 17,
     "metadata": {},
     "output_type": "execute_result"
    }
   ],
   "source": [
    "np.tanh(w_h[0] * (1) + b_h)"
   ]
  },
  {
   "cell_type": "code",
   "execution_count": 18,
   "metadata": {},
   "outputs": [
    {
     "data": {
      "image/png": "[encoded data removed]",
      "text/plain": [
       "<Figure size 864x432 with 6 Axes>"
      ]
     },
     "metadata": {},
     "output_type": "display_data"
    }
   ],
   "source": [
    "fig, axes = plt.subplots(2, 3, figsize=(12, 6), \n",
    "#                          sharex=True, sharey=True\n",
    "                        )\n",
    "axes = axes.ravel()\n",
    "\n",
    "for k, i in enumerate([\n",
    "    'update_gate', 'reset_gate', 'input_candidate', 'hidden_state'\n",
    "]):\n",
    "    ax = axes[k]\n",
    "    ax.plot(np.array(hist)[:,k], 'o-', label=i)\n",
    "    ax.legend(loc='best')\n",
    "    ax.grid()\n",
    "    \n",
    "    if k in [0, 1, 3]:\n",
    "        ax.set_ylim(0, 1)\n",
    "    if k == 2:\n",
    "        ax.set_ylim(-1, 1)\n",
    "\n",
    "plt.tight_layout()"
   ]
  },
  {
   "cell_type": "markdown",
   "metadata": {},
   "source": [
    "This shows that `update_gate` ($z_t$) is always zero, and `reset_gate` ($r_t$) is always one, so the above four equations effectively become\n",
    "\n",
    "\\begin{align*}\n",
    "h_t &= \\tilde{h}_t = \\tanh(w_h[h_{t-1}, x_t] + b_h)\n",
    "\\end{align*}"
   ]
  },
  {
   "cell_type": "markdown",
   "metadata": {},
   "source": [
    "**Insight**:\n",
    "\n",
    "Since $x_t$ is mostly zero except at the very beginning, it could be mannually verified that this equation osscilate between 1 and -1. Hence if the beginning is one, then it ends with zero, vice versa.\n",
    "\n",
    "The zigzag reminds me of tanh in vanilla RNN.\n",
    "\n",
    "It would be interesting to see how the function adapts if the seq length vary within a dataset."
   ]
  },
  {
   "cell_type": "code",
   "execution_count": null,
   "metadata": {},
   "outputs": [],
   "source": []
  },
  {
   "cell_type": "code",
   "execution_count": null,
   "metadata": {},
   "outputs": [],
   "source": []
  },
  {
   "cell_type": "code",
   "execution_count": 19,
   "metadata": {},
   "outputs": [
    {
     "data": {
      "text/plain": [
       "[array([[3.5899737]], dtype=float32), array([-0.19562314], dtype=float32)]"
      ]
     },
     "execution_count": 19,
     "metadata": {},
     "output_type": "execute_result"
    }
   ],
   "source": [
    "dense.get_weights()"
   ]
  },
  {
   "cell_type": "code",
   "execution_count": 20,
   "metadata": {},
   "outputs": [],
   "source": [
    "# den_in = hist[-1][-1] # dense input\n",
    "den_in = hist[-1][-1]"
   ]
  },
  {
   "cell_type": "code",
   "execution_count": 21,
   "metadata": {},
   "outputs": [
    {
     "data": {
      "text/plain": [
       "0.9226465005750767"
      ]
     },
     "execution_count": 21,
     "metadata": {},
     "output_type": "execute_result"
    }
   ],
   "source": [
    "den_in"
   ]
  },
  {
   "cell_type": "code",
   "execution_count": 22,
   "metadata": {},
   "outputs": [
    {
     "name": "stdout",
     "output_type": "stream",
     "text": [
      "[3.5899737] [-0.19562314]\n"
     ]
    }
   ],
   "source": [
    "d_w0 = dense.get_weights()[0][0]\n",
    "d_b0 = dense.get_weights()[1]\n",
    "print(d_w0, d_b0)"
   ]
  },
  {
   "cell_type": "code",
   "execution_count": 23,
   "metadata": {},
   "outputs": [
    {
     "data": {
      "text/plain": [
       "array([0.9575745], dtype=float32)"
      ]
     },
     "execution_count": 23,
     "metadata": {},
     "output_type": "execute_result"
    }
   ],
   "source": [
    "sigmoid(den_in * d_w0 + d_b0)"
   ]
  },
  {
   "cell_type": "code",
   "execution_count": 24,
   "metadata": {},
   "outputs": [
    {
     "data": {
      "text/plain": [
       "array([[0.95706177]], dtype=float32)"
      ]
     },
     "execution_count": 24,
     "metadata": {},
     "output_type": "execute_result"
    }
   ],
   "source": [
    "model.predict(np.array([single_x]))"
   ]
  },
  {
   "cell_type": "markdown",
   "metadata": {},
   "source": [
    "Followed equations from [colah's blog](http://colah.github.io/posts/2015-08-Understanding-LSTMs/), but there is always inconsistency.... "
   ]
  }
 ],
 "metadata": {
  "kernelspec": {
   "display_name": "Python 3",
   "language": "python",
   "name": "python3"
  },
  "language_info": {
   "codemirror_mode": {
    "name": "ipython",
    "version": 3
   },
   "file_extension": ".py",
   "mimetype": "text/x-python",
   "name": "python",
   "nbconvert_exporter": "python",
   "pygments_lexer": "ipython3",
   "version": "3.6.5"
  }
 },
 "nbformat": 4,
 "nbformat_minor": 2
}
