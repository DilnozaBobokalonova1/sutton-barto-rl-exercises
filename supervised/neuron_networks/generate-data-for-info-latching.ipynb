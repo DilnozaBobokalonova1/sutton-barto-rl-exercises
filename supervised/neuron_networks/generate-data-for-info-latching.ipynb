{
 "cells": [
  {
   "cell_type": "code",
   "execution_count": 1,
   "metadata": {
    "nbpresent": {
     "id": "1be13854-f9bd-4bab-843b-dc531f20e885"
    }
   },
   "outputs": [],
   "source": [
    "import random\n",
    "import matplotlib.pyplot as plt\n",
    "import matplotlib as mlp\n",
    "\n",
    "mlp.style.use('classic')\n",
    "\n",
    "%matplotlib inline\n",
    "\n",
    "import numpy as np"
   ]
  },
  {
   "cell_type": "code",
   "execution_count": 2,
   "metadata": {},
   "outputs": [],
   "source": [
    "seq_len = 10\n",
    "N = 10000\n",
    "batch_size = 25\n",
    "\n",
    "xs = np.zeros((N, seq_len))\n",
    "ys = np.zeros(N)\n",
    "\n",
    "# Note: keras doesn't shuffe data before split!\n",
    "for i in range(N):\n",
    "    if random.random() > 0.5:\n",
    "        xs[i, 0] = 1\n",
    "        ys[i] = 1\n",
    "    else:\n",
    "        xs[i, 0] = -1\n",
    "        ys[i] = 0\n",
    "\n",
    "noise = np.random.normal(loc=0, scale=0.1, size=(N, seq_len))\n",
    "\n",
    "train_xs = (xs + noise)\n",
    "train_ys = ys"
   ]
  },
  {
   "cell_type": "code",
   "execution_count": 3,
   "metadata": {},
   "outputs": [],
   "source": [
    "df = pd.DataFrame(train_xs)"
   ]
  },
  {
   "cell_type": "code",
   "execution_count": 4,
   "metadata": {},
   "outputs": [],
   "source": [
    "df['label'] = ys.astype(int)"
   ]
  },
  {
   "cell_type": "code",
   "execution_count": 5,
   "metadata": {},
   "outputs": [
    {
     "data": {
      "text/html": [
       "<div>\n",
       "<style scoped>\n",
       "    .dataframe tbody tr th:only-of-type {\n",
       "        vertical-align: middle;\n",
       "    }\n",
       "\n",
       "    .dataframe tbody tr th {\n",
       "        vertical-align: top;\n",
       "    }\n",
       "\n",
       "    .dataframe thead th {\n",
       "        text-align: right;\n",
       "    }\n",
       "</style>\n",
       "<table border=\"1\" class=\"dataframe\">\n",
       "  <thead>\n",
       "    <tr style=\"text-align: right;\">\n",
       "      <th></th>\n",
       "      <th>0</th>\n",
       "      <th>1</th>\n",
       "      <th>2</th>\n",
       "      <th>3</th>\n",
       "      <th>4</th>\n",
       "      <th>5</th>\n",
       "      <th>6</th>\n",
       "      <th>7</th>\n",
       "      <th>8</th>\n",
       "      <th>9</th>\n",
       "      <th>label</th>\n",
       "    </tr>\n",
       "  </thead>\n",
       "  <tbody>\n",
       "    <tr>\n",
       "      <th>0</th>\n",
       "      <td>-1.056914</td>\n",
       "      <td>0.005705</td>\n",
       "      <td>0.082682</td>\n",
       "      <td>-0.053366</td>\n",
       "      <td>0.075738</td>\n",
       "      <td>0.148595</td>\n",
       "      <td>0.056295</td>\n",
       "      <td>0.151317</td>\n",
       "      <td>0.143358</td>\n",
       "      <td>-0.192856</td>\n",
       "      <td>0</td>\n",
       "    </tr>\n",
       "    <tr>\n",
       "      <th>1</th>\n",
       "      <td>-0.997915</td>\n",
       "      <td>0.114942</td>\n",
       "      <td>-0.085929</td>\n",
       "      <td>0.078481</td>\n",
       "      <td>-0.051648</td>\n",
       "      <td>0.106069</td>\n",
       "      <td>-0.046170</td>\n",
       "      <td>0.042865</td>\n",
       "      <td>0.078097</td>\n",
       "      <td>-0.071444</td>\n",
       "      <td>0</td>\n",
       "    </tr>\n",
       "  </tbody>\n",
       "</table>\n",
       "</div>"
      ],
      "text/plain": [
       "          0         1         2         3         4         5         6         7         8         9  label\n",
       "0 -1.056914  0.005705  0.082682 -0.053366  0.075738  0.148595  0.056295  0.151317  0.143358 -0.192856      0\n",
       "1 -0.997915  0.114942 -0.085929  0.078481 -0.051648  0.106069 -0.046170  0.042865  0.078097 -0.071444      0"
      ]
     },
     "execution_count": 5,
     "metadata": {},
     "output_type": "execute_result"
    }
   ],
   "source": [
    "df.head(2)"
   ]
  },
  {
   "cell_type": "markdown",
   "metadata": {},
   "source": [
    "Take a look at the data"
   ]
  },
  {
   "cell_type": "code",
   "execution_count": 6,
   "metadata": {},
   "outputs": [
    {
     "name": "stdout",
     "output_type": "stream",
     "text": [
      "6396,3142,498,895,1528,7625,8632,194,7882,5131,"
     ]
    },
    {
     "data": {
      "image/png": "[encoded data removed]",
      "text/plain": [
       "<Figure size 432x288 with 1 Axes>"
      ]
     },
     "metadata": {},
     "output_type": "display_data"
    }
   ],
   "source": [
    "for i in np.random.choice(np.arange(N), 10):\n",
    "    print(i, end=',')\n",
    "    plt.plot(train_xs[i], color='red')\n",
    "    plt.plot(train_xs[-i], color='blue')"
   ]
  },
  {
   "cell_type": "code",
   "execution_count": 9,
   "metadata": {},
   "outputs": [
    {
     "data": {
      "text/plain": [
       "0    5040\n",
       "1    4960\n",
       "Name: label, dtype: int64"
      ]
     },
     "execution_count": 9,
     "metadata": {},
     "output_type": "execute_result"
    }
   ],
   "source": [
    "df.label.value_counts()"
   ]
  },
  {
   "cell_type": "code",
   "execution_count": 7,
   "metadata": {},
   "outputs": [],
   "source": [
    "mkdir -p ./data/info-latching/"
   ]
  },
  {
   "cell_type": "code",
   "execution_count": 8,
   "metadata": {},
   "outputs": [],
   "source": [
    "df.to_csv('./data/info-latching/seq_len_{0}.csv'.format(seq_len), index=False)"
   ]
  }
 ],
 "metadata": {
  "kernelspec": {
   "display_name": "Python 3",
   "language": "python",
   "name": "python3"
  },
  "language_info": {
   "codemirror_mode": {
    "name": "ipython",
    "version": 3
   },
   "file_extension": ".py",
   "mimetype": "text/x-python",
   "name": "python",
   "nbconvert_exporter": "python",
   "pygments_lexer": "ipython3",
   "version": "3.6.5"
  }
 },
 "nbformat": 4,
 "nbformat_minor": 2
}
