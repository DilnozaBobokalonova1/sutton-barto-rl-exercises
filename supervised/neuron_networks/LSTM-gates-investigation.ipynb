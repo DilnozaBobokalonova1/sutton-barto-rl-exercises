{
 "cells": [
  {
   "cell_type": "markdown",
   "metadata": {
    "nbpresent": {
     "id": "a75eb6bf-344e-432c-b9bd-2fbc397bc527"
    }
   },
   "source": [
    "Repeat of the experiment done in \n",
    "\n",
    "**Learning long-term dependencies with gradient descent is difficult**\n",
    "\n",
    "https://dl.acm.org/citation.cfm?id=2328340"
   ]
  },
  {
   "cell_type": "code",
   "execution_count": 1,
   "metadata": {
    "nbpresent": {
     "id": "1be13854-f9bd-4bab-843b-dc531f20e885"
    }
   },
   "outputs": [],
   "source": [
    "import matplotlib.pyplot as plt\n",
    "import matplotlib as mlp\n",
    "\n",
    "mlp.style.use('classic')\n",
    "\n",
    "%matplotlib inline"
   ]
  },
  {
   "cell_type": "code",
   "execution_count": 2,
   "metadata": {
    "nbpresent": {
     "id": "bd6e7987-df32-45ac-88f8-bac2dd9f2cf6"
    }
   },
   "outputs": [
    {
     "name": "stderr",
     "output_type": "stream",
     "text": [
      "Using TensorFlow backend.\n"
     ]
    }
   ],
   "source": [
    "import numpy as np\n",
    "\n",
    "from keras.models import Model\n",
    "from keras.optimizers import Adam\n",
    "from keras.layers import Input, LSTM, LSTMCell, Dense, SimpleRNN\n",
    "from keras.utils.vis_utils import plot_model\n",
    "from keras import backend as K"
   ]
  },
  {
   "cell_type": "code",
   "execution_count": 3,
   "metadata": {
    "nbpresent": {
     "id": "a4cda7cd-c2f8-4ad3-96e2-7c332f99a4fa"
    }
   },
   "outputs": [],
   "source": [
    "seq_len = 5\n",
    "N = 10000\n",
    "batch_size = 100\n",
    "\n",
    "xs = np.zeros((N, seq_len))\n",
    "ys = np.zeros(N)\n",
    "\n",
    "# construct input data\n",
    "positive_indexes = np.arange(N // 2)\n",
    "negative_indexes = np.arange(N // 2, N)\n",
    "\n",
    "xs[positive_indexes, 0] = 10\n",
    "ys[positive_indexes] = 1\n",
    "\n",
    "xs[negative_indexes, 0] = -10\n",
    "ys[negative_indexes] = 0\n",
    "\n",
    "noise = np.random.normal(loc=0, scale=0.1, size=(N, seq_len))\n",
    "\n",
    "train_xs = (xs + noise).reshape(N, seq_len, 1)\n",
    "train_ys = ys\n",
    "\n",
    "inputs = Input(shape=(None, 1), name='input')\n",
    "rnn = LSTM(1, input_shape=(None, 1), name='rnn')\n",
    "rnn_out = rnn(inputs)\n",
    "# dense = Dense(2, activation='softmax', name='output')\n",
    "# dense = Dense(1, activation='sigmoid', name='output')\n",
    "dense = Dense(1, activation='relu', name='output')\n",
    "dense_out = dense(rnn_out)\n",
    "model = Model(inputs, dense_out)\n",
    "adam = Adam(lr=1e-5)\n",
    "# model.compile(optimizer=adam, loss='sparse_categorical_crossentropy', metrics=['accuracy'])\n",
    "model.compile(optimizer=adam, loss='mse', metrics=['accuracy'])\n",
    "hist = model.fit(train_xs, train_ys,\n",
    "                 batch_size=batch_size,\n",
    "                 epochs=10,\n",
    "                 validation_split=0.2, \n",
    "                 verbose=0)"
   ]
  },
  {
   "cell_type": "code",
   "execution_count": 4,
   "metadata": {},
   "outputs": [
    {
     "data": {
      "text/plain": [
       "dict_keys(['val_loss', 'val_acc', 'loss', 'acc'])"
      ]
     },
     "execution_count": 4,
     "metadata": {},
     "output_type": "execute_result"
    }
   ],
   "source": [
    "hist.history.keys()"
   ]
  },
  {
   "cell_type": "code",
   "execution_count": 5,
   "metadata": {},
   "outputs": [
    {
     "data": {
      "text/plain": [
       "[<matplotlib.lines.Line2D at 0x1829786080>]"
      ]
     },
     "execution_count": 5,
     "metadata": {},
     "output_type": "execute_result"
    },
    {
     "data": {
      "image/png": "[encoded data removed]",
      "text/plain": [
       "<Figure size 432x288 with 1 Axes>"
      ]
     },
     "metadata": {},
     "output_type": "display_data"
    }
   ],
   "source": [
    "plt.plot(hist.history['acc'])"
   ]
  },
  {
   "cell_type": "code",
   "execution_count": 6,
   "metadata": {},
   "outputs": [
    {
     "data": {
      "text/plain": [
       "[<matplotlib.lines.Line2D at 0x18297f2a20>]"
      ]
     },
     "execution_count": 6,
     "metadata": {},
     "output_type": "execute_result"
    },
    {
     "data": {
      "image/png": "[encoded data removed]",
      "text/plain": [
       "<Figure size 432x288 with 1 Axes>"
      ]
     },
     "metadata": {},
     "output_type": "display_data"
    }
   ],
   "source": [
    "# the positive and negative only vary by a small difference considering output from sigmoid\n",
    "plt.plot(model.predict(train_xs))"
   ]
  },
  {
   "cell_type": "markdown",
   "metadata": {},
   "source": [
    "ref: http://colah.github.io/posts/2015-08-Understanding-LSTMs/\n",
    "\n",
    "Since the input at each time step is only 1 dimension, so I used $w$ (scalar) instead of $W$ (matrix)."
   ]
  },
  {
   "attachments": {},
   "cell_type": "markdown",
   "metadata": {},
   "source": [
    "<img src=\"./lstm.png\" width=600/>"
   ]
  },
  {
   "cell_type": "markdown",
   "metadata": {},
   "source": [
    "Calculate gates:\n",
    "\n",
    "\\begin{align*}\n",
    "f_t &= \\sigma(w_f[h_{t-1}, x_t]) + b_f \\\\\n",
    "i_t &= \\sigma(w_i[h_{t-1}, x_t]) + b_i \\\\\n",
    "\\tilde{C}_t &= \\tanh(w_C[h_{t-1}, x_t]) + b_C \\\\\n",
    "o_t &= \\sigma(w_o[h_{t-1}, x_t]) + b_o\n",
    "\\end{align*}\n",
    "\n",
    "Update $C_t$ and $h_t$,\n",
    "\\begin{align*}\n",
    "C_t &= f_t * C_{t-1} + i_t * \\tilde{C}_t \\\\\n",
    "h_t &= o_t * \\tanh(C_t)\n",
    "\\end{align*}"
   ]
  },
  {
   "cell_type": "code",
   "execution_count": 7,
   "metadata": {
    "nbpresent": {
     "id": "044013d7-9e3c-4d1a-bded-2c0bed1d7f30"
    }
   },
   "outputs": [
    {
     "data": {
      "text/plain": [
       "[array([[-1.0279149 , -0.74228495, -0.05060584, -0.2164469 ]],\n",
       "       dtype=float32),\n",
       " array([[-0.9186729 , -0.08337967,  0.3383234 , -0.26363912]],\n",
       "       dtype=float32),\n",
       " array([ 0.01147038,  1.0116643 , -0.00872571,  0.01158455], dtype=float32)]"
      ]
     },
     "execution_count": 7,
     "metadata": {},
     "output_type": "execute_result"
    }
   ],
   "source": [
    "rnn.get_weights()"
   ]
  },
  {
   "cell_type": "code",
   "execution_count": 8,
   "metadata": {},
   "outputs": [
    {
     "data": {
      "text/plain": [
       "array([[-1.0279149 , -0.74228495, -0.05060584, -0.2164469 ],\n",
       "       [-0.9186729 , -0.08337967,  0.3383234 , -0.26363912]],\n",
       "      dtype=float32)"
      ]
     },
     "execution_count": 8,
     "metadata": {},
     "output_type": "execute_result"
    }
   ],
   "source": [
    "kernel = np.array(rnn.get_weights()[:2])[:,0,:]\n",
    "kernel"
   ]
  },
  {
   "cell_type": "code",
   "execution_count": 9,
   "metadata": {},
   "outputs": [],
   "source": [
    "w_i, w_f, w_c, w_o = kernel.T"
   ]
  },
  {
   "cell_type": "code",
   "execution_count": 10,
   "metadata": {},
   "outputs": [],
   "source": [
    "b_i, b_f, b_c, b_o = rnn.get_weights()[-1]"
   ]
  },
  {
   "cell_type": "code",
   "execution_count": 11,
   "metadata": {},
   "outputs": [],
   "source": [
    "# w_i, w_f = w_f, w_i\n",
    "# b_i, b_f = b_f, b_i"
   ]
  },
  {
   "cell_type": "code",
   "execution_count": 12,
   "metadata": {},
   "outputs": [
    {
     "name": "stdout",
     "output_type": "stream",
     "text": [
      "[-1.0279149 -0.9186729] 0.011470384\n",
      "[-0.74228495 -0.08337967] 1.0116643\n",
      "[-0.05060584  0.3383234 ] -0.008725711\n",
      "[-0.2164469  -0.26363912] 0.011584546\n"
     ]
    }
   ],
   "source": [
    "print(w_i, b_i)\n",
    "print(w_f, b_f)\n",
    "print(w_c, b_c)\n",
    "print(w_o, b_o)"
   ]
  },
  {
   "cell_type": "code",
   "execution_count": 30,
   "metadata": {},
   "outputs": [
    {
     "data": {
      "text/plain": [
       "array([[-10.07662195],\n",
       "       [  0.08844112],\n",
       "       [  0.02992779],\n",
       "       [  0.01275387],\n",
       "       [ -0.09939528]])"
      ]
     },
     "execution_count": 30,
     "metadata": {},
     "output_type": "execute_result"
    }
   ],
   "source": [
    "single_x = train_xs[-1]\n",
    "single_x"
   ]
  },
  {
   "cell_type": "code",
   "execution_count": 31,
   "metadata": {},
   "outputs": [],
   "source": [
    "def sigmoid(a):\n",
    "    return 1 / (1 + np.exp(-a))"
   ]
  },
  {
   "cell_type": "code",
   "execution_count": 43,
   "metadata": {},
   "outputs": [],
   "source": [
    "h_prev = 0\n",
    "C_prev = 0\n",
    "\n",
    "hist = []\n",
    "for t in range(single_x.shape[0]):\n",
    "    cat_x = [h_prev, single_x[t][0]]\n",
    "#     cat_x = [single_x[t][0], h_prev]\n",
    "    f_t = sigmoid(np.dot(w_f, cat_x) + b_f)\n",
    "    i_t = sigmoid(np.dot(w_i, cat_x) + b_i)\n",
    "    B_t = np.tanh(np.dot(w_c, cat_x) + b_c) # use B to mean \\tilde{C}\n",
    "    o_t = sigmoid(np.dot(w_o, cat_x) + b_o)\n",
    "\n",
    "    C_t = f_t * C_prev + i_t * B_t\n",
    "    h_t = o_t * np.tanh(C_t)\n",
    "\n",
    "    hist.append([f_t, i_t, B_t, o_t, C_t, h_t])\n",
    "\n",
    "    h_prev = h_t\n",
    "    C_prev = C_t"
   ]
  },
  {
   "cell_type": "code",
   "execution_count": 44,
   "metadata": {},
   "outputs": [
    {
     "data": {
      "image/png": "[encoded data removed]",
      "text/plain": [
       "<Figure size 864x432 with 6 Axes>"
      ]
     },
     "metadata": {},
     "output_type": "display_data"
    }
   ],
   "source": [
    "fig, axes = plt.subplots(2, 3, figsize=(12, 6), \n",
    "#                          sharex=True, sharey=True\n",
    "                        )\n",
    "axes = axes.ravel()\n",
    "\n",
    "for k, i in enumerate([\n",
    "    'forget_gate', 'input_gate', 'input_candidate', 'output_gate', \n",
    "    'cell_state', 'hidden_state'\n",
    "]):\n",
    "    ax = axes[k]\n",
    "    ax.plot(np.array(hist)[:,k], 'o-', label=i)\n",
    "    ax.legend(loc='best')\n",
    "    ax.grid()\n",
    "    \n",
    "    if k in [0, 1, 3]:\n",
    "        ax.set_ylim(0, 1)\n",
    "    if k == 2:\n",
    "        ax.set_ylim(-1, 1)\n",
    "\n",
    "plt.tight_layout()"
   ]
  },
  {
   "cell_type": "markdown",
   "metadata": {},
   "source": [
    "So seems that `input_candidate` are completely ignored"
   ]
  },
  {
   "cell_type": "code",
   "execution_count": 45,
   "metadata": {},
   "outputs": [
    {
     "data": {
      "text/plain": [
       "[array([[-0.6719197]], dtype=float32), array([0.00862497], dtype=float32)]"
      ]
     },
     "execution_count": 45,
     "metadata": {},
     "output_type": "execute_result"
    }
   ],
   "source": [
    "dense.get_weights()"
   ]
  },
  {
   "cell_type": "code",
   "execution_count": 46,
   "metadata": {},
   "outputs": [],
   "source": [
    "den_in = hist[-1][-1] # dense input"
   ]
  },
  {
   "cell_type": "code",
   "execution_count": 47,
   "metadata": {},
   "outputs": [
    {
     "data": {
      "text/plain": [
       "-0.18381250751969055"
      ]
     },
     "execution_count": 47,
     "metadata": {},
     "output_type": "execute_result"
    }
   ],
   "source": [
    "den_in"
   ]
  },
  {
   "cell_type": "code",
   "execution_count": 48,
   "metadata": {},
   "outputs": [
    {
     "name": "stdout",
     "output_type": "stream",
     "text": [
      "[-0.6719197] [0.00862497]\n"
     ]
    }
   ],
   "source": [
    "d_w0 = dense.get_weights()[0][0]\n",
    "d_b0 = dense.get_weights()[1]\n",
    "print(d_w0, d_b0)"
   ]
  },
  {
   "cell_type": "code",
   "execution_count": 49,
   "metadata": {},
   "outputs": [
    {
     "data": {
      "text/plain": [
       "array([0.13213222], dtype=float32)"
      ]
     },
     "execution_count": 49,
     "metadata": {},
     "output_type": "execute_result"
    }
   ],
   "source": [
    "np.max([den_in * d_w0 + d_b0, 0])\n",
    "# sigmoid(den_in * d_w0 + d_b0)"
   ]
  },
  {
   "cell_type": "code",
   "execution_count": 50,
   "metadata": {},
   "outputs": [],
   "source": [
    "# sigmoid(den_in * d_w0 + d_b0)"
   ]
  },
  {
   "cell_type": "code",
   "execution_count": 51,
   "metadata": {},
   "outputs": [
    {
     "data": {
      "text/plain": [
       "array([[0.]], dtype=float32)"
      ]
     },
     "execution_count": 51,
     "metadata": {},
     "output_type": "execute_result"
    }
   ],
   "source": [
    "model.predict(np.array([single_x]))"
   ]
  },
  {
   "cell_type": "markdown",
   "metadata": {},
   "source": [
    "Now it seems the calculation is just wrong"
   ]
  },
  {
   "cell_type": "code",
   "execution_count": null,
   "metadata": {},
   "outputs": [],
   "source": []
  },
  {
   "cell_type": "code",
   "execution_count": 17,
   "metadata": {},
   "outputs": [
    {
     "ename": "ValueError",
     "evalue": "not enough values to unpack (expected 2, got 1)",
     "output_type": "error",
     "traceback": [
      "\u001b[0;31m---------------------------------------------------------------------------\u001b[0m",
      "\u001b[0;31mValueError\u001b[0m                                Traceback (most recent call last)",
      "\u001b[0;32m<ipython-input-17-583e3f14ada6>\u001b[0m in \u001b[0;36m<module>\u001b[0;34m()\u001b[0m\n\u001b[0;32m----> 1\u001b[0;31m \u001b[0;34m[\u001b[0m\u001b[0md_w0\u001b[0m\u001b[0;34m,\u001b[0m \u001b[0md_w1\u001b[0m\u001b[0;34m]\u001b[0m \u001b[0;34m=\u001b[0m \u001b[0mdense\u001b[0m\u001b[0;34m.\u001b[0m\u001b[0mget_weights\u001b[0m\u001b[0;34m(\u001b[0m\u001b[0;34m)\u001b[0m\u001b[0;34m[\u001b[0m\u001b[0;36m0\u001b[0m\u001b[0;34m]\u001b[0m\u001b[0;34m[\u001b[0m\u001b[0;36m0\u001b[0m\u001b[0;34m]\u001b[0m\u001b[0;34m\u001b[0m\u001b[0m\n\u001b[0m\u001b[1;32m      2\u001b[0m \u001b[0;34m[\u001b[0m\u001b[0md_b0\u001b[0m\u001b[0;34m,\u001b[0m \u001b[0md_b1\u001b[0m\u001b[0;34m]\u001b[0m \u001b[0;34m=\u001b[0m \u001b[0mdense\u001b[0m\u001b[0;34m.\u001b[0m\u001b[0mget_weights\u001b[0m\u001b[0;34m(\u001b[0m\u001b[0;34m)\u001b[0m\u001b[0;34m[\u001b[0m\u001b[0;36m1\u001b[0m\u001b[0;34m]\u001b[0m\u001b[0;34m\u001b[0m\u001b[0m\n",
      "\u001b[0;31mValueError\u001b[0m: not enough values to unpack (expected 2, got 1)"
     ]
    }
   ],
   "source": [
    "# # for softmax Dense layer\n",
    "# [d_w0, d_w1] = dense.get_weights()[0][0]\n",
    "# [d_b0, d_b1] = dense.get_weights()[1]\n",
    "\n",
    "# logit0 = den_in * d_w0 + d_b0\n",
    "\n",
    "# logit1 = den_in * d_w1 + d_b1\n",
    "\n",
    "# np.exp(-logit0) / (np.exp(-logit0) + np.exp(-logit1))"
   ]
  },
  {
   "cell_type": "code",
   "execution_count": null,
   "metadata": {},
   "outputs": [],
   "source": []
  },
  {
   "cell_type": "code",
   "execution_count": null,
   "metadata": {},
   "outputs": [],
   "source": []
  },
  {
   "cell_type": "code",
   "execution_count": 67,
   "metadata": {},
   "outputs": [],
   "source": [
    "# ref https://github.com/keras-team/keras/blob/d035967a5d2795734c89a0a3c002f7eb5c34eff1/keras/layers/recurrent.py#L1941\n",
    "# kernel_i = kernel[:, :units]\n",
    "# kernel_f = kernel[:, units: units * 2]\n",
    "# kernel_c = kernel[:, units * 2: units * 3]\n",
    "# kernel_o = kernel[:, units * 3:]"
   ]
  },
  {
   "cell_type": "code",
   "execution_count": null,
   "metadata": {},
   "outputs": [],
   "source": []
  },
  {
   "cell_type": "code",
   "execution_count": null,
   "metadata": {},
   "outputs": [],
   "source": []
  },
  {
   "cell_type": "code",
   "execution_count": null,
   "metadata": {},
   "outputs": [],
   "source": []
  },
  {
   "cell_type": "code",
   "execution_count": null,
   "metadata": {},
   "outputs": [],
   "source": []
  },
  {
   "cell_type": "code",
   "execution_count": null,
   "metadata": {
    "nbpresent": {
     "id": "6434f175-93cf-464b-8a77-38cf68ae2693"
    }
   },
   "outputs": [],
   "source": []
  },
  {
   "cell_type": "code",
   "execution_count": null,
   "metadata": {
    "nbpresent": {
     "id": "d977f045-9772-4c04-8966-b7fed0b9c256"
    }
   },
   "outputs": [],
   "source": []
  },
  {
   "cell_type": "code",
   "execution_count": null,
   "metadata": {
    "nbpresent": {
     "id": "d6f6a8d4-0099-43ef-ad71-4fdf0fd43fd6"
    }
   },
   "outputs": [],
   "source": []
  },
  {
   "cell_type": "code",
   "execution_count": 3,
   "metadata": {
    "nbpresent": {
     "id": "aa983c14-d3d9-4617-bd3e-45c8195c1bf3"
    }
   },
   "outputs": [
    {
     "name": "stdout",
     "output_type": "stream",
     "text": [
      "srnn: 2,5,8,10,15,20,25,30,30,40,50,60,70,80,90,100,110,120,130,140,150,160,170,180,190,200,\n",
      "lstm: 2,5,8,10,15,20,25,30,30,40,50,60,70,80,90,100,110,120,130,140,150,160,170,180,190,200,\n"
     ]
    }
   ],
   "source": [
    "N = 10000\n",
    "num_epochs = 30\n",
    "# sequence length options\n",
    "lens = [2, 5, 8, 10, 15, 20, 25, 30] + np.arange(30, 210, 10).tolist()\n",
    "\n",
    "res = {}\n",
    "for (RNN_CELL, key) in zip([SimpleRNN, LSTM], ['srnn', 'lstm']):\n",
    "    res[key] = {}\n",
    "    print(key, end=': ')\n",
    "    for seq_len in lens:\n",
    "        print(seq_len, end=',')\n",
    "        xs = np.zeros((N, seq_len))\n",
    "        ys = np.zeros(N)\n",
    "\n",
    "        # construct input data\n",
    "        positive_indexes = np.arange(N // 2)\n",
    "        negative_indexes = np.arange(N // 2, N)\n",
    "\n",
    "        xs[positive_indexes, 0] = 1\n",
    "        ys[positive_indexes] = 1\n",
    "\n",
    "        xs[negative_indexes, 0] = -1\n",
    "        ys[negative_indexes] = 0\n",
    "\n",
    "        noise = np.random.normal(loc=0, scale=0.1, size=(N, seq_len))\n",
    "\n",
    "        train_xs = (xs + noise).reshape(N, seq_len, 1)\n",
    "        train_ys = ys\n",
    "\n",
    "        # train for multiple epochs\n",
    "        hists = []\n",
    "        for i in range(num_epochs):\n",
    "            inputs = Input(shape=(None, 1), name='input')\n",
    "            # rnn = SimpleRNN(1, input_shape=(None, 1), name='rnn')(inputs)\n",
    "            rnn = RNN_CELL(1, input_shape=(None, 1), name='rnn')(inputs)\n",
    "            out = Dense(2, activation='softmax', name='output')(rnn)\n",
    "            model = Model(inputs, out)\n",
    "            model.compile(optimizer='adam', loss='sparse_categorical_crossentropy', metrics=['accuracy'])\n",
    "            hist = model.fit(train_xs, train_ys, epochs=5, shuffle=True, validation_split=0.2, batch_size=16, verbose=0)\n",
    "            hists.append(hist.history['val_acc'][-1])\n",
    "        res[key][seq_len] = hists\n",
    "    print()"
   ]
  },
  {
   "cell_type": "code",
   "execution_count": 18,
   "metadata": {
    "nbpresent": {
     "id": "1514a782-7d4c-44a4-bcae-c0a07bc779ce"
    }
   },
   "outputs": [
    {
     "data": {
      "image/png": "[encoded data removed]",
      "text/plain": [
       "<Figure size 432x288 with 1 Axes>"
      ]
     },
     "metadata": {},
     "output_type": "display_data"
    }
   ],
   "source": [
    "fig = plt.figure()\n",
    "ax = fig.add_subplot(111)\n",
    "ax.plot(pd.DataFrame.from_dict(res['lstm']).mean(), 'o-', label='lstm')\n",
    "ax.plot(pd.DataFrame.from_dict(res['srnn']).mean(), 'o-', label='srnn')\n",
    "ax.set_xlabel('Sequence length')\n",
    "ax.set_ylabel('Frequency of successful training')\n",
    "ax.legend()\n",
    "ax.grid()"
   ]
  },
  {
   "cell_type": "code",
   "execution_count": null,
   "metadata": {
    "nbpresent": {
     "id": "57c19c67-3d39-4881-8fa4-3474e29b3715"
    }
   },
   "outputs": [],
   "source": []
  }
 ],
 "metadata": {
  "kernelspec": {
   "display_name": "Python [default]",
   "language": "python",
   "name": "python3"
  },
  "language_info": {
   "codemirror_mode": {
    "name": "ipython",
    "version": 3
   },
   "file_extension": ".py",
   "mimetype": "text/x-python",
   "name": "python",
   "nbconvert_exporter": "python",
   "pygments_lexer": "ipython3",
   "version": "3.6.4"
  }
 },
 "nbformat": 4,
 "nbformat_minor": 2
}
